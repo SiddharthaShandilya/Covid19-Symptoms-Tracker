{
  "nbformat": 4,
  "nbformat_minor": 0,
  "metadata": {
    "kernelspec": {
      "display_name": "Python 3",
      "language": "python",
      "name": "python3"
    },
    "language_info": {
      "codemirror_mode": {
        "name": "ipython",
        "version": 3
      },
      "file_extension": ".py",
      "mimetype": "text/x-python",
      "name": "python",
      "nbconvert_exporter": "python",
      "pygments_lexer": "ipython3",
      "version": "3.7.6"
    },
    "colab": {
      "name": "new_covid_1_done-Copy1.ipynb",
      "provenance": [],
      "include_colab_link": true
    }
  },
  "cells": [
    {
      "cell_type": "markdown",
      "metadata": {
        "id": "view-in-github",
        "colab_type": "text"
      },
      "source": [
        "<a href=\"https://colab.research.google.com/github/amit17133129/Covid19-Symptoms-Tracker/blob/master/new_covid_1_done_Copy1.ipynb\" target=\"_parent\"><img src=\"https://colab.research.google.com/assets/colab-badge.svg\" alt=\"Open In Colab\"/></a>"
      ]
    },
    {
      "cell_type": "code",
      "metadata": {
        "id": "WIEkOg9s8xE9",
        "colab_type": "code",
        "colab": {},
        "outputId": "c07a46ef-990b-4065-8b6a-5b1a932ba2d2"
      },
      "source": [
        "import pandas as pd\n",
        "import numpy as np\n",
        "data = pd.read_excel(\"/home/amitsharma123/Downloads/COVID-19 Clinical Data Repository.xlsx\")\n",
        "data.info()"
      ],
      "execution_count": null,
      "outputs": [
        {
          "output_type": "stream",
          "text": [
            "<class 'pandas.core.frame.DataFrame'>\n",
            "RangeIndex: 922 entries, 0 to 921\n",
            "Data columns (total 45 columns):\n",
            " #   Column                         Non-Null Count  Dtype         \n",
            "---  ------                         --------------  -----         \n",
            " 0   date_published                 922 non-null    datetime64[ns]\n",
            " 1   clinic_state                   922 non-null    object        \n",
            " 2   test_name                      922 non-null    object        \n",
            " 3   swab_type                      922 non-null    object        \n",
            " 4   covid19_test_results           922 non-null    object        \n",
            " 5   age                            922 non-null    int64         \n",
            " 6   high_risk_exposure_occupation  706 non-null    float64       \n",
            " 7   high_risk_interactions         289 non-null    float64       \n",
            " 8   diabetes                       922 non-null    bool          \n",
            " 9   chd                            922 non-null    bool          \n",
            " 10  htn                            922 non-null    bool          \n",
            " 11  cancer                         922 non-null    bool          \n",
            " 12  asthma                         922 non-null    bool          \n",
            " 13  copd                           922 non-null    bool          \n",
            " 14  autoimmune_dis                 922 non-null    bool          \n",
            " 15  temperature                    879 non-null    float64       \n",
            " 16  pulse                          891 non-null    float64       \n",
            " 17  sys                            889 non-null    float64       \n",
            " 18  dia                            889 non-null    float64       \n",
            " 19  rr                             719 non-null    float64       \n",
            " 20  sats                           883 non-null    float64       \n",
            " 21  rapid_flu_results              108 non-null    object        \n",
            " 22  rapid_strep_results            29 non-null     object        \n",
            " 23  days_since_symptom_onset       490 non-null    float64       \n",
            " 24  ctab                           846 non-null    float64       \n",
            " 25  labored_respiration            880 non-null    float64       \n",
            " 26  rhonchi                        789 non-null    float64       \n",
            " 27  wheezes                        800 non-null    float64       \n",
            " 28  cough                          754 non-null    float64       \n",
            " 29  cough_severity                 503 non-null    object        \n",
            " 30  fever                          379 non-null    float64       \n",
            " 31  sob                            754 non-null    float64       \n",
            " 32  sob_severity                   301 non-null    object        \n",
            " 33  diarrhea                       22 non-null     float64       \n",
            " 34  fatigue                        80 non-null     float64       \n",
            " 35  headache                       61 non-null     float64       \n",
            " 36  loss_of_smell                  23 non-null     float64       \n",
            " 37  loss_of_taste                  23 non-null     float64       \n",
            " 38  runny_nose                     32 non-null     float64       \n",
            " 39  muscle_sore                    50 non-null     float64       \n",
            " 40  sore_throat                    67 non-null     float64       \n",
            " 41  cxr_findings                   180 non-null    object        \n",
            " 42  cxr_impression                 180 non-null    object        \n",
            " 43  cxr_link                       183 non-null    object        \n",
            " 44  er_referral                    922 non-null    bool          \n",
            "dtypes: bool(8), datetime64[ns](1), float64(24), int64(1), object(11)\n",
            "memory usage: 273.8+ KB\n"
          ],
          "name": "stdout"
        }
      ]
    },
    {
      "cell_type": "code",
      "metadata": {
        "id": "jxDjbZcP8xFC",
        "colab_type": "code",
        "colab": {}
      },
      "source": [
        "df = data.copy()\n"
      ],
      "execution_count": null,
      "outputs": []
    },
    {
      "cell_type": "code",
      "metadata": {
        "id": "BVBsCyhy8xFE",
        "colab_type": "code",
        "colab": {}
      },
      "source": [
        "df['dia'].fillna((df['dia'].mean()), inplace = True)\n",
        "bins= [60,70,80,90]\n",
        "labels = ['Low Dia','Normal Dia',\n",
        "          'High Dia']\n",
        "dia = pd.cut(df['dia'], bins=bins, labels=labels, right=False)\n",
        "df[\"DIA\"]=dia\n",
        "df=df.drop(['dia'],axis=1)\n",
        "df=pd.concat([df,pd.get_dummies(df['DIA'],drop_first=True)],axis=1)\n",
        "df = df.drop (['DIA'],axis=1)\n",
        "df.head(3)\n",
        "dia_df = pd.DataFrame({\n",
        "    \"Normal Dia\":df['Normal Dia'],\n",
        "    \"High Dia\":df['High Dia']\n",
        "    })\n",
        "#dia_data"
      ],
      "execution_count": null,
      "outputs": []
    },
    {
      "cell_type": "code",
      "metadata": {
        "id": "j6DBcv638xFH",
        "colab_type": "code",
        "colab": {},
        "outputId": "dbd8f5d4-e58f-41f9-f300-e9311204ee36"
      },
      "source": [
        "data['cough_severity']"
      ],
      "execution_count": null,
      "outputs": [
        {
          "output_type": "execute_result",
          "data": {
            "text/plain": [
              "0           NaN\n",
              "1      Moderate\n",
              "2          Mild\n",
              "3           NaN\n",
              "4           NaN\n",
              "         ...   \n",
              "917         NaN\n",
              "918        Mild\n",
              "919    Moderate\n",
              "920    Moderate\n",
              "921    Moderate\n",
              "Name: cough_severity, Length: 922, dtype: object"
            ]
          },
          "metadata": {
            "tags": []
          },
          "execution_count": 51
        }
      ]
    },
    {
      "cell_type": "code",
      "metadata": {
        "id": "0CakKlFf8xFK",
        "colab_type": "code",
        "colab": {},
        "outputId": "40339847-6219-48e1-86eb-754f68e17c70"
      },
      "source": [
        "cough1 = pd.get_dummies(data['sob_severity'], drop_first=True)\n",
        "cough1"
      ],
      "execution_count": null,
      "outputs": [
        {
          "output_type": "execute_result",
          "data": {
            "text/html": [
              "<div>\n",
              "<style scoped>\n",
              "    .dataframe tbody tr th:only-of-type {\n",
              "        vertical-align: middle;\n",
              "    }\n",
              "\n",
              "    .dataframe tbody tr th {\n",
              "        vertical-align: top;\n",
              "    }\n",
              "\n",
              "    .dataframe thead th {\n",
              "        text-align: right;\n",
              "    }\n",
              "</style>\n",
              "<table border=\"1\" class=\"dataframe\">\n",
              "  <thead>\n",
              "    <tr style=\"text-align: right;\">\n",
              "      <th></th>\n",
              "      <th>Moderate</th>\n",
              "      <th>Severe</th>\n",
              "    </tr>\n",
              "  </thead>\n",
              "  <tbody>\n",
              "    <tr>\n",
              "      <th>0</th>\n",
              "      <td>0</td>\n",
              "      <td>0</td>\n",
              "    </tr>\n",
              "    <tr>\n",
              "      <th>1</th>\n",
              "      <td>0</td>\n",
              "      <td>0</td>\n",
              "    </tr>\n",
              "    <tr>\n",
              "      <th>2</th>\n",
              "      <td>0</td>\n",
              "      <td>0</td>\n",
              "    </tr>\n",
              "    <tr>\n",
              "      <th>3</th>\n",
              "      <td>0</td>\n",
              "      <td>0</td>\n",
              "    </tr>\n",
              "    <tr>\n",
              "      <th>4</th>\n",
              "      <td>0</td>\n",
              "      <td>0</td>\n",
              "    </tr>\n",
              "    <tr>\n",
              "      <th>...</th>\n",
              "      <td>...</td>\n",
              "      <td>...</td>\n",
              "    </tr>\n",
              "    <tr>\n",
              "      <th>917</th>\n",
              "      <td>0</td>\n",
              "      <td>0</td>\n",
              "    </tr>\n",
              "    <tr>\n",
              "      <th>918</th>\n",
              "      <td>0</td>\n",
              "      <td>0</td>\n",
              "    </tr>\n",
              "    <tr>\n",
              "      <th>919</th>\n",
              "      <td>0</td>\n",
              "      <td>0</td>\n",
              "    </tr>\n",
              "    <tr>\n",
              "      <th>920</th>\n",
              "      <td>1</td>\n",
              "      <td>0</td>\n",
              "    </tr>\n",
              "    <tr>\n",
              "      <th>921</th>\n",
              "      <td>0</td>\n",
              "      <td>0</td>\n",
              "    </tr>\n",
              "  </tbody>\n",
              "</table>\n",
              "<p>922 rows × 2 columns</p>\n",
              "</div>"
            ],
            "text/plain": [
              "     Moderate  Severe\n",
              "0           0       0\n",
              "1           0       0\n",
              "2           0       0\n",
              "3           0       0\n",
              "4           0       0\n",
              "..        ...     ...\n",
              "917         0       0\n",
              "918         0       0\n",
              "919         0       0\n",
              "920         1       0\n",
              "921         0       0\n",
              "\n",
              "[922 rows x 2 columns]"
            ]
          },
          "metadata": {
            "tags": []
          },
          "execution_count": 54
        }
      ]
    },
    {
      "cell_type": "code",
      "metadata": {
        "id": "voha__kB8xFN",
        "colab_type": "code",
        "colab": {}
      },
      "source": [
        "cough = pd.get_dummies(data['cough_severity'], drop_first=True)\n",
        "cough_data = pd.DataFrame({\"Moderate\":cough['Moderate'],\"Severe\":cough['Severe']})\n",
        "# cough_data['Moderate'].fillna((cough_data['Moderate'].mean()), inplace = True)\n",
        "# cough_data['Severe'].fillna((cough_data['Severe'].mean()), inplace = True)\n",
        "#cough_data #to be concated"
      ],
      "execution_count": null,
      "outputs": []
    },
    {
      "cell_type": "code",
      "metadata": {
        "id": "0VA0tuHk8xFP",
        "colab_type": "code",
        "colab": {},
        "outputId": "de9f7406-8af8-44d5-ebec-1eb3cde96175"
      },
      "source": [
        "cough"
      ],
      "execution_count": null,
      "outputs": [
        {
          "output_type": "execute_result",
          "data": {
            "text/html": [
              "<div>\n",
              "<style scoped>\n",
              "    .dataframe tbody tr th:only-of-type {\n",
              "        vertical-align: middle;\n",
              "    }\n",
              "\n",
              "    .dataframe tbody tr th {\n",
              "        vertical-align: top;\n",
              "    }\n",
              "\n",
              "    .dataframe thead th {\n",
              "        text-align: right;\n",
              "    }\n",
              "</style>\n",
              "<table border=\"1\" class=\"dataframe\">\n",
              "  <thead>\n",
              "    <tr style=\"text-align: right;\">\n",
              "      <th></th>\n",
              "      <th>Moderate</th>\n",
              "      <th>Severe</th>\n",
              "    </tr>\n",
              "  </thead>\n",
              "  <tbody>\n",
              "    <tr>\n",
              "      <th>0</th>\n",
              "      <td>0</td>\n",
              "      <td>0</td>\n",
              "    </tr>\n",
              "    <tr>\n",
              "      <th>1</th>\n",
              "      <td>1</td>\n",
              "      <td>0</td>\n",
              "    </tr>\n",
              "    <tr>\n",
              "      <th>2</th>\n",
              "      <td>0</td>\n",
              "      <td>0</td>\n",
              "    </tr>\n",
              "    <tr>\n",
              "      <th>3</th>\n",
              "      <td>0</td>\n",
              "      <td>0</td>\n",
              "    </tr>\n",
              "    <tr>\n",
              "      <th>4</th>\n",
              "      <td>0</td>\n",
              "      <td>0</td>\n",
              "    </tr>\n",
              "    <tr>\n",
              "      <th>...</th>\n",
              "      <td>...</td>\n",
              "      <td>...</td>\n",
              "    </tr>\n",
              "    <tr>\n",
              "      <th>917</th>\n",
              "      <td>0</td>\n",
              "      <td>0</td>\n",
              "    </tr>\n",
              "    <tr>\n",
              "      <th>918</th>\n",
              "      <td>0</td>\n",
              "      <td>0</td>\n",
              "    </tr>\n",
              "    <tr>\n",
              "      <th>919</th>\n",
              "      <td>1</td>\n",
              "      <td>0</td>\n",
              "    </tr>\n",
              "    <tr>\n",
              "      <th>920</th>\n",
              "      <td>1</td>\n",
              "      <td>0</td>\n",
              "    </tr>\n",
              "    <tr>\n",
              "      <th>921</th>\n",
              "      <td>1</td>\n",
              "      <td>0</td>\n",
              "    </tr>\n",
              "  </tbody>\n",
              "</table>\n",
              "<p>922 rows × 2 columns</p>\n",
              "</div>"
            ],
            "text/plain": [
              "     Moderate  Severe\n",
              "0           0       0\n",
              "1           1       0\n",
              "2           0       0\n",
              "3           0       0\n",
              "4           0       0\n",
              "..        ...     ...\n",
              "917         0       0\n",
              "918         0       0\n",
              "919         1       0\n",
              "920         1       0\n",
              "921         1       0\n",
              "\n",
              "[922 rows x 2 columns]"
            ]
          },
          "metadata": {
            "tags": []
          },
          "execution_count": 49
        }
      ]
    },
    {
      "cell_type": "code",
      "metadata": {
        "id": "ZfLml5Ik8xFS",
        "colab_type": "code",
        "colab": {}
      },
      "source": [
        "htn = pd.get_dummies('htn')\n",
        "df['htn'] = htn\n",
        "df['htn'].fillna((df['htn'].mean()), inplace = True)\n",
        "\n",
        "chd= pd.get_dummies('chd')\n",
        "df['chd'] = chd\n",
        "df['chd'].fillna((df['chd'].mean()), inplace = True)\n",
        "chd_htn = df['htn'] + df['chd']\n",
        "#chd_htn"
      ],
      "execution_count": null,
      "outputs": []
    },
    {
      "cell_type": "code",
      "metadata": {
        "id": "7or0DKME8xFW",
        "colab_type": "code",
        "colab": {}
      },
      "source": [
        "bins= [5,10,20,30,40,50,60,70,80,90,100]\n",
        "labels = ['age1','age2','age3','age4','age5','age6','age7','age8','age9','age10']\n",
        "Age = pd.cut(df['age'], bins=bins, labels=labels, right=False)\n",
        "df[\"Age\"]=Age\n",
        "df=df.drop(['age'],axis=1)\n",
        "df=pd.concat([df,pd.get_dummies(df['Age'],drop_first=True)],axis=1)\n",
        "df = df.drop (['Age'],axis=1)\n",
        "df.head()\n",
        "\n",
        "age_df = pd.DataFrame({\n",
        " #   \"Age1\":df['age1'],\n",
        "    \"Age2\":df['age2'],\n",
        "    \"Age3\":df['age3'],\n",
        "    \"Age4\":df['age4'],\n",
        "    \"Age5\":df['age5'],\n",
        "    \"Age6\":df['age6'],\n",
        "    \"Age7\":df['age7'],\n",
        "    \"Age8\":df['age8'],\n",
        "    \"Age9\":df['age9'],\n",
        "    \"Age10\":df['age10']\n",
        "\n",
        "})\n",
        "#age_data"
      ],
      "execution_count": null,
      "outputs": []
    },
    {
      "cell_type": "code",
      "metadata": {
        "id": "8cos7tdt8xFY",
        "colab_type": "code",
        "colab": {}
      },
      "source": [
        ""
      ],
      "execution_count": null,
      "outputs": []
    },
    {
      "cell_type": "code",
      "metadata": {
        "id": "ndsYJ0UK8xFa",
        "colab_type": "code",
        "colab": {}
      },
      "source": [
        "bins= [80,100,120,130]\n",
        "labels = ['lower_sys','Normal_sys','High_sys']\n",
        "sys = pd.cut(df['sys'], bins=bins, labels=labels, right=False)\n",
        "df[\"SYS\"]=sys\n",
        "df=df.drop(['sys'],axis=1)\n",
        "df=pd.concat([df,pd.get_dummies(df['SYS'],drop_first=True)],axis=1)\n",
        "df = df.drop (['SYS'],axis=1)\n",
        "df.head()\n",
        "sys_data = pd.DataFrame({\"High_sys\":df['High_sys'],\"Normal_sys\":df['Normal_sys']})\n",
        "#sys_data"
      ],
      "execution_count": null,
      "outputs": []
    },
    {
      "cell_type": "code",
      "metadata": {
        "id": "VpAAnSt78xFc",
        "colab_type": "code",
        "colab": {}
      },
      "source": [
        ""
      ],
      "execution_count": null,
      "outputs": []
    },
    {
      "cell_type": "code",
      "metadata": {
        "id": "AAZx0qim8xFf",
        "colab_type": "code",
        "colab": {}
      },
      "source": [
        "bins= [30,40,50,60,70,80,90,100,120,130]\n",
        "labels = ['sys1','sys2','sys3','sys4','sys5','sys6','sys7','sys8','sys9']\n",
        "sys = pd.cut(df['sys'], bins=bins, labels=labels, right=False)\n",
        "df[\"SYS\"]=sys\n",
        "df=df.drop(['sys'],axis=1)\n",
        "df=pd.concat([df,pd.get_dummies(df['SYS'],drop_first=True)],axis=1)\n",
        "df = df.drop (['SYS'],axis=1)\n",
        "#df.head()\n"
      ],
      "execution_count": null,
      "outputs": []
    },
    {
      "cell_type": "code",
      "metadata": {
        "id": "WYo3OngJ8xFh",
        "colab_type": "code",
        "colab": {}
      },
      "source": [
        "data['temperature'].fillna((data['temperature'].mean()), inplace = True)\n",
        "bins= [95,96,98.6,102,110]\n",
        "labels = ['low_fever', 'normal','fever','high fever']\n",
        "Temp = pd.cut(data['temperature'], bins=bins, labels=labels, right=False)\n",
        "data[\"Temp\"]=Temp\n",
        "df=data.drop(['temperature'],axis=1)\n",
        "df=pd.concat([df,pd.get_dummies(df['Temp'],drop_first=True)],axis=1)\n",
        "df = df.drop (['Temp'],axis=1)\n",
        "df['fever']\n",
        "fever_data = pd.DataFrame({\n",
        "                         #\"fever\":df['fever'],\n",
        "                        \"Normal_fever\":df['normal'],\n",
        "                        \"High_fever\":df['high fever']})\n",
        "#fever_data\n"
      ],
      "execution_count": null,
      "outputs": []
    },
    {
      "cell_type": "code",
      "metadata": {
        "id": "CoM1pIJh8xFj",
        "colab_type": "code",
        "colab": {}
      },
      "source": [
        "df['rr'].fillna((df['rr'].mean()), inplace = True)\n",
        "bins= [5,10,12,20,21]\n",
        "labels = ['extreme_low_rr','normal RR','RR','high RR']\n",
        "Temp = pd.cut(df['rr'], bins=bins, labels=labels, right=False)\n",
        "df[\"RR\"]=Temp\n",
        "df=df.drop(['rr'],axis=1)\n",
        "df=pd.concat([df,pd.get_dummies(df['RR'],drop_first=True)],axis=1)\n",
        "df = df.drop (['RR'],axis=1)\n",
        "df\n",
        "rr_data = pd.DataFrame({\n",
        "                         #\"fever\":df['fever'],\n",
        "                        \"Normal_RR\":df['normal RR'],\n",
        "                        \"High_RR\":df['high RR']})\n",
        "#rr_data"
      ],
      "execution_count": null,
      "outputs": []
    },
    {
      "cell_type": "code",
      "metadata": {
        "id": "WVOlnhHM8xFm",
        "colab_type": "code",
        "colab": {}
      },
      "source": [
        "#data['stats'].fillna((data['stats'].mean()), inplace = True)\n",
        "bins= [93,94,95,96,97,98,99,100]\n",
        "labels = ['SATS_1','SATS_2','SATS_3','SATS_4','SATS_5','SATS_6', 'SATS_7']\n",
        "Temp = pd.cut(df['sats'], bins=bins, labels=labels, right=False)\n",
        "df[\"SATS\"]=Temp\n",
        "df=df.drop(['sats'],axis=1)\n",
        "df=pd.concat([df,pd.get_dummies(df['SATS'],drop_first=True)],axis=1)\n",
        "df = df.drop (['SATS'],axis=1)\n",
        "df\n",
        "sats_data = pd.DataFrame({\n",
        "    \"sats_1\":df['SATS_2'],\n",
        "    \"sats2\":df['SATS_3'],\n",
        "    \"sats4\":df['SATS_4'],\n",
        "   \"sats5\":df['SATS_5'],\n",
        "    \"sats6\":df['SATS_6'],\n",
        "   \"sats7\":df['SATS_7'],\n",
        "\n",
        "\n",
        "})\n",
        "#sats_data"
      ],
      "execution_count": null,
      "outputs": []
    },
    {
      "cell_type": "code",
      "metadata": {
        "id": "FA7lXq-08xFo",
        "colab_type": "code",
        "colab": {}
      },
      "source": [
        ""
      ],
      "execution_count": null,
      "outputs": []
    },
    {
      "cell_type": "code",
      "metadata": {
        "id": "NRyjmTGv8xFq",
        "colab_type": "code",
        "colab": {},
        "outputId": "bb00d424-f814-473f-952b-4227b7e60f3f"
      },
      "source": [
        "data['pulse'].fillna((data['pulse'].mean()), inplace = True)\n",
        "bins= [0,60,100,200]\n",
        "labels = ['low pulse','normal_pulse','high pulse']\n",
        "pulse = pd.cut(df['pulse'], bins=bins, labels=labels, right=False)\n",
        "df[\"Pulse\"]=pulse\n",
        "df=df.drop(['pulse'],axis=1)\n",
        "df=pd.concat([df,pd.get_dummies(df['Pulse'],drop_first=True)],axis=1)\n",
        "df = df.drop (['Pulse'],axis=1)\n",
        "df.head(3)\n",
        "pulse_data = pd.DataFrame({\n",
        "   # \"normal_pulse1\":df['normal_pulse1'],\n",
        "    \"normal_pulse\":df['normal_pulse'],\n",
        "   \"high_pulse\":df['high pulse']\n",
        "\n",
        "})\n",
        "#pulse_data"
      ],
      "execution_count": null,
      "outputs": [
        {
          "output_type": "error",
          "ename": "KeyError",
          "evalue": "'pulse'",
          "traceback": [
            "\u001b[0;31m---------------------------------------------------------------------------\u001b[0m",
            "\u001b[0;31mKeyError\u001b[0m                                  Traceback (most recent call last)",
            "\u001b[0;32m~/anaconda3/lib/python3.7/site-packages/pandas/core/indexes/base.py\u001b[0m in \u001b[0;36mget_loc\u001b[0;34m(self, key, method, tolerance)\u001b[0m\n\u001b[1;32m   2645\u001b[0m             \u001b[0;32mtry\u001b[0m\u001b[0;34m:\u001b[0m\u001b[0;34m\u001b[0m\u001b[0;34m\u001b[0m\u001b[0m\n\u001b[0;32m-> 2646\u001b[0;31m                 \u001b[0;32mreturn\u001b[0m \u001b[0mself\u001b[0m\u001b[0;34m.\u001b[0m\u001b[0m_engine\u001b[0m\u001b[0;34m.\u001b[0m\u001b[0mget_loc\u001b[0m\u001b[0;34m(\u001b[0m\u001b[0mkey\u001b[0m\u001b[0;34m)\u001b[0m\u001b[0;34m\u001b[0m\u001b[0;34m\u001b[0m\u001b[0m\n\u001b[0m\u001b[1;32m   2647\u001b[0m             \u001b[0;32mexcept\u001b[0m \u001b[0mKeyError\u001b[0m\u001b[0;34m:\u001b[0m\u001b[0;34m\u001b[0m\u001b[0;34m\u001b[0m\u001b[0m\n",
            "\u001b[0;32mpandas/_libs/index.pyx\u001b[0m in \u001b[0;36mpandas._libs.index.IndexEngine.get_loc\u001b[0;34m()\u001b[0m\n",
            "\u001b[0;32mpandas/_libs/index.pyx\u001b[0m in \u001b[0;36mpandas._libs.index.IndexEngine.get_loc\u001b[0;34m()\u001b[0m\n",
            "\u001b[0;32mpandas/_libs/hashtable_class_helper.pxi\u001b[0m in \u001b[0;36mpandas._libs.hashtable.PyObjectHashTable.get_item\u001b[0;34m()\u001b[0m\n",
            "\u001b[0;32mpandas/_libs/hashtable_class_helper.pxi\u001b[0m in \u001b[0;36mpandas._libs.hashtable.PyObjectHashTable.get_item\u001b[0;34m()\u001b[0m\n",
            "\u001b[0;31mKeyError\u001b[0m: 'pulse'",
            "\nDuring handling of the above exception, another exception occurred:\n",
            "\u001b[0;31mKeyError\u001b[0m                                  Traceback (most recent call last)",
            "\u001b[0;32m<ipython-input-47-85d05191994f>\u001b[0m in \u001b[0;36m<module>\u001b[0;34m\u001b[0m\n\u001b[1;32m      2\u001b[0m \u001b[0mbins\u001b[0m\u001b[0;34m=\u001b[0m \u001b[0;34m[\u001b[0m\u001b[0;36m0\u001b[0m\u001b[0;34m,\u001b[0m\u001b[0;36m60\u001b[0m\u001b[0;34m,\u001b[0m\u001b[0;36m100\u001b[0m\u001b[0;34m,\u001b[0m\u001b[0;36m200\u001b[0m\u001b[0;34m]\u001b[0m\u001b[0;34m\u001b[0m\u001b[0;34m\u001b[0m\u001b[0m\n\u001b[1;32m      3\u001b[0m \u001b[0mlabels\u001b[0m \u001b[0;34m=\u001b[0m \u001b[0;34m[\u001b[0m\u001b[0;34m'low pulse'\u001b[0m\u001b[0;34m,\u001b[0m\u001b[0;34m'normal_pulse'\u001b[0m\u001b[0;34m,\u001b[0m\u001b[0;34m'high pulse'\u001b[0m\u001b[0;34m]\u001b[0m\u001b[0;34m\u001b[0m\u001b[0;34m\u001b[0m\u001b[0m\n\u001b[0;32m----> 4\u001b[0;31m \u001b[0mpulse\u001b[0m \u001b[0;34m=\u001b[0m \u001b[0mpd\u001b[0m\u001b[0;34m.\u001b[0m\u001b[0mcut\u001b[0m\u001b[0;34m(\u001b[0m\u001b[0mdf\u001b[0m\u001b[0;34m[\u001b[0m\u001b[0;34m'pulse'\u001b[0m\u001b[0;34m]\u001b[0m\u001b[0;34m,\u001b[0m \u001b[0mbins\u001b[0m\u001b[0;34m=\u001b[0m\u001b[0mbins\u001b[0m\u001b[0;34m,\u001b[0m \u001b[0mlabels\u001b[0m\u001b[0;34m=\u001b[0m\u001b[0mlabels\u001b[0m\u001b[0;34m,\u001b[0m \u001b[0mright\u001b[0m\u001b[0;34m=\u001b[0m\u001b[0;32mFalse\u001b[0m\u001b[0;34m)\u001b[0m\u001b[0;34m\u001b[0m\u001b[0;34m\u001b[0m\u001b[0m\n\u001b[0m\u001b[1;32m      5\u001b[0m \u001b[0mdf\u001b[0m\u001b[0;34m[\u001b[0m\u001b[0;34m\"Pulse\"\u001b[0m\u001b[0;34m]\u001b[0m\u001b[0;34m=\u001b[0m\u001b[0mpulse\u001b[0m\u001b[0;34m\u001b[0m\u001b[0;34m\u001b[0m\u001b[0m\n\u001b[1;32m      6\u001b[0m \u001b[0mdf\u001b[0m\u001b[0;34m=\u001b[0m\u001b[0mdf\u001b[0m\u001b[0;34m.\u001b[0m\u001b[0mdrop\u001b[0m\u001b[0;34m(\u001b[0m\u001b[0;34m[\u001b[0m\u001b[0;34m'pulse'\u001b[0m\u001b[0;34m]\u001b[0m\u001b[0;34m,\u001b[0m\u001b[0maxis\u001b[0m\u001b[0;34m=\u001b[0m\u001b[0;36m1\u001b[0m\u001b[0;34m)\u001b[0m\u001b[0;34m\u001b[0m\u001b[0;34m\u001b[0m\u001b[0m\n",
            "\u001b[0;32m~/anaconda3/lib/python3.7/site-packages/pandas/core/frame.py\u001b[0m in \u001b[0;36m__getitem__\u001b[0;34m(self, key)\u001b[0m\n\u001b[1;32m   2798\u001b[0m             \u001b[0;32mif\u001b[0m \u001b[0mself\u001b[0m\u001b[0;34m.\u001b[0m\u001b[0mcolumns\u001b[0m\u001b[0;34m.\u001b[0m\u001b[0mnlevels\u001b[0m \u001b[0;34m>\u001b[0m \u001b[0;36m1\u001b[0m\u001b[0;34m:\u001b[0m\u001b[0;34m\u001b[0m\u001b[0;34m\u001b[0m\u001b[0m\n\u001b[1;32m   2799\u001b[0m                 \u001b[0;32mreturn\u001b[0m \u001b[0mself\u001b[0m\u001b[0;34m.\u001b[0m\u001b[0m_getitem_multilevel\u001b[0m\u001b[0;34m(\u001b[0m\u001b[0mkey\u001b[0m\u001b[0;34m)\u001b[0m\u001b[0;34m\u001b[0m\u001b[0;34m\u001b[0m\u001b[0m\n\u001b[0;32m-> 2800\u001b[0;31m             \u001b[0mindexer\u001b[0m \u001b[0;34m=\u001b[0m \u001b[0mself\u001b[0m\u001b[0;34m.\u001b[0m\u001b[0mcolumns\u001b[0m\u001b[0;34m.\u001b[0m\u001b[0mget_loc\u001b[0m\u001b[0;34m(\u001b[0m\u001b[0mkey\u001b[0m\u001b[0;34m)\u001b[0m\u001b[0;34m\u001b[0m\u001b[0;34m\u001b[0m\u001b[0m\n\u001b[0m\u001b[1;32m   2801\u001b[0m             \u001b[0;32mif\u001b[0m \u001b[0mis_integer\u001b[0m\u001b[0;34m(\u001b[0m\u001b[0mindexer\u001b[0m\u001b[0;34m)\u001b[0m\u001b[0;34m:\u001b[0m\u001b[0;34m\u001b[0m\u001b[0;34m\u001b[0m\u001b[0m\n\u001b[1;32m   2802\u001b[0m                 \u001b[0mindexer\u001b[0m \u001b[0;34m=\u001b[0m \u001b[0;34m[\u001b[0m\u001b[0mindexer\u001b[0m\u001b[0;34m]\u001b[0m\u001b[0;34m\u001b[0m\u001b[0;34m\u001b[0m\u001b[0m\n",
            "\u001b[0;32m~/anaconda3/lib/python3.7/site-packages/pandas/core/indexes/base.py\u001b[0m in \u001b[0;36mget_loc\u001b[0;34m(self, key, method, tolerance)\u001b[0m\n\u001b[1;32m   2646\u001b[0m                 \u001b[0;32mreturn\u001b[0m \u001b[0mself\u001b[0m\u001b[0;34m.\u001b[0m\u001b[0m_engine\u001b[0m\u001b[0;34m.\u001b[0m\u001b[0mget_loc\u001b[0m\u001b[0;34m(\u001b[0m\u001b[0mkey\u001b[0m\u001b[0;34m)\u001b[0m\u001b[0;34m\u001b[0m\u001b[0;34m\u001b[0m\u001b[0m\n\u001b[1;32m   2647\u001b[0m             \u001b[0;32mexcept\u001b[0m \u001b[0mKeyError\u001b[0m\u001b[0;34m:\u001b[0m\u001b[0;34m\u001b[0m\u001b[0;34m\u001b[0m\u001b[0m\n\u001b[0;32m-> 2648\u001b[0;31m                 \u001b[0;32mreturn\u001b[0m \u001b[0mself\u001b[0m\u001b[0;34m.\u001b[0m\u001b[0m_engine\u001b[0m\u001b[0;34m.\u001b[0m\u001b[0mget_loc\u001b[0m\u001b[0;34m(\u001b[0m\u001b[0mself\u001b[0m\u001b[0;34m.\u001b[0m\u001b[0m_maybe_cast_indexer\u001b[0m\u001b[0;34m(\u001b[0m\u001b[0mkey\u001b[0m\u001b[0;34m)\u001b[0m\u001b[0;34m)\u001b[0m\u001b[0;34m\u001b[0m\u001b[0;34m\u001b[0m\u001b[0m\n\u001b[0m\u001b[1;32m   2649\u001b[0m         \u001b[0mindexer\u001b[0m \u001b[0;34m=\u001b[0m \u001b[0mself\u001b[0m\u001b[0;34m.\u001b[0m\u001b[0mget_indexer\u001b[0m\u001b[0;34m(\u001b[0m\u001b[0;34m[\u001b[0m\u001b[0mkey\u001b[0m\u001b[0;34m]\u001b[0m\u001b[0;34m,\u001b[0m \u001b[0mmethod\u001b[0m\u001b[0;34m=\u001b[0m\u001b[0mmethod\u001b[0m\u001b[0;34m,\u001b[0m \u001b[0mtolerance\u001b[0m\u001b[0;34m=\u001b[0m\u001b[0mtolerance\u001b[0m\u001b[0;34m)\u001b[0m\u001b[0;34m\u001b[0m\u001b[0;34m\u001b[0m\u001b[0m\n\u001b[1;32m   2650\u001b[0m         \u001b[0;32mif\u001b[0m \u001b[0mindexer\u001b[0m\u001b[0;34m.\u001b[0m\u001b[0mndim\u001b[0m \u001b[0;34m>\u001b[0m \u001b[0;36m1\u001b[0m \u001b[0;32mor\u001b[0m \u001b[0mindexer\u001b[0m\u001b[0;34m.\u001b[0m\u001b[0msize\u001b[0m \u001b[0;34m>\u001b[0m \u001b[0;36m1\u001b[0m\u001b[0;34m:\u001b[0m\u001b[0;34m\u001b[0m\u001b[0;34m\u001b[0m\u001b[0m\n",
            "\u001b[0;32mpandas/_libs/index.pyx\u001b[0m in \u001b[0;36mpandas._libs.index.IndexEngine.get_loc\u001b[0;34m()\u001b[0m\n",
            "\u001b[0;32mpandas/_libs/index.pyx\u001b[0m in \u001b[0;36mpandas._libs.index.IndexEngine.get_loc\u001b[0;34m()\u001b[0m\n",
            "\u001b[0;32mpandas/_libs/hashtable_class_helper.pxi\u001b[0m in \u001b[0;36mpandas._libs.hashtable.PyObjectHashTable.get_item\u001b[0;34m()\u001b[0m\n",
            "\u001b[0;32mpandas/_libs/hashtable_class_helper.pxi\u001b[0m in \u001b[0;36mpandas._libs.hashtable.PyObjectHashTable.get_item\u001b[0;34m()\u001b[0m\n",
            "\u001b[0;31mKeyError\u001b[0m: 'pulse'"
          ]
        }
      ]
    },
    {
      "cell_type": "code",
      "metadata": {
        "id": "N_JTb6sY8xFt",
        "colab_type": "code",
        "colab": {}
      },
      "source": [
        ""
      ],
      "execution_count": null,
      "outputs": []
    },
    {
      "cell_type": "code",
      "metadata": {
        "id": "TNYeo3rL8xFv",
        "colab_type": "code",
        "colab": {}
      },
      "source": [
        ""
      ],
      "execution_count": null,
      "outputs": []
    },
    {
      "cell_type": "code",
      "metadata": {
        "id": "9c21omEa8xFx",
        "colab_type": "code",
        "colab": {}
      },
      "source": [
        "\n",
        "df['high_risk_exposure_occupation'].fillna((df['high_risk_exposure_occupation'].mean()), inplace = True)\n",
        "df['high_risk_interactions'].fillna((df['high_risk_interactions'].mean()), inplace = True)\n",
        "df['pulse'].fillna((df['pulse'].mean()), inplace = True)\n",
        "df['sys'].fillna((df['sys'].mean()), inplace = True)\n",
        "df['dia'].fillna((df['dia'].mean()), inplace = True)\n",
        "df['rr'].fillna((df['rr'].mean()), inplace = True)\n",
        "df['sats'].fillna((df['sats'].mean()), inplace = True)\n",
        "df['days_since_symptom_onset'].fillna((df['days_since_symptom_onset'].mean()), inplace = True)\n",
        "df['ctab'].fillna((data['ctab'].mean()), inplace = True)\n",
        "df['labored_respiration'].fillna((df['labored_respiration'].mean()), inplace = True)\n",
        "df['rhonchi'].fillna((df['rhonchi'].mean()), inplace = True)\n",
        "df['wheezes'].fillna((df['wheezes'].mean()), inplace = True)\n",
        "df['cough'].fillna((df['cough'].mean()), inplace = True)\n",
        "#------------------------------------------------------------------\n",
        "# htn = pd.get_dummies('htn')\n",
        "# data['htn'] = htn\n",
        "df['htn'].fillna((df['htn'].mean()), inplace = True)\n",
        "\n",
        "# chd= pd.get_dummies('chd')\n",
        "# data['chd'] = chd\n",
        "df['chd'].fillna((df['chd'].mean()), inplace = True)\n",
        "\n",
        "# cough = pd.get_dummies('cough_severity')\n",
        "# data['cough_severity'] = cough\n",
        "#data['cough_severity'].fillna((data['cough_severity'].mean()), inplace = True)\n",
        "\n",
        "#-------------------------------------------------------------------\n",
        "# data['fever'].fillna((data['fever'].mean()), inplace = True)\n",
        "df['sob'].fillna((df['sob'].mean()), inplace = True)\n",
        "#---------------------------------------------------------------\n",
        "\n",
        "\n",
        "# data['sob_severity'].fillna((data['sob_severity'].mean()), inplace = True)\n",
        "\n",
        "df['diarrhea'].fillna((df['diarrhea'].mean()), inplace = True)\n",
        "df['fatigue'].fillna((df['fatigue'].mean()), inplace = True)\n",
        "df['headache'].fillna((df['headache'].mean()), inplace = True)\n",
        "df['loss_of_smell'].fillna((df['loss_of_smell'].mean()), inplace = True)\n",
        "df['loss_of_taste'].fillna((df['loss_of_taste'].mean()), inplace = True)\n",
        "df['runny_nose'].fillna((df['runny_nose'].mean()), inplace = True)\n",
        "df['muscle_sore'].fillna((df['muscle_sore'].mean()), inplace = True)\n",
        "df['sore_throat'].fillna((df['sore_throat'].mean()), inplace = True)\n"
      ],
      "execution_count": null,
      "outputs": []
    },
    {
      "cell_type": "code",
      "metadata": {
        "id": "xCdv-z7C8xFz",
        "colab_type": "code",
        "colab": {}
      },
      "source": [
        ""
      ],
      "execution_count": null,
      "outputs": []
    },
    {
      "cell_type": "code",
      "metadata": {
        "id": "Rv742ziO8xF1",
        "colab_type": "code",
        "colab": {}
      },
      "source": [
        ""
      ],
      "execution_count": null,
      "outputs": []
    },
    {
      "cell_type": "code",
      "metadata": {
        "id": "ru14cog38xF3",
        "colab_type": "code",
        "colab": {}
      },
      "source": [
        ""
      ],
      "execution_count": null,
      "outputs": []
    },
    {
      "cell_type": "code",
      "metadata": {
        "id": "BOYgnDkv8xF6",
        "colab_type": "code",
        "colab": {}
      },
      "source": [
        ""
      ],
      "execution_count": null,
      "outputs": []
    },
    {
      "cell_type": "code",
      "metadata": {
        "id": "8eRqeBo08xF8",
        "colab_type": "code",
        "colab": {},
        "outputId": "e5458321-4d7f-41f2-ec12-867be6c313b8"
      },
      "source": [
        "high_risk_interactions = pd.get_dummies(df['high_risk_interactions'], drop_first=True)\n",
        "high_risk_interactions"
      ],
      "execution_count": null,
      "outputs": [
        {
          "output_type": "execute_result",
          "data": {
            "text/html": [
              "<div>\n",
              "<style scoped>\n",
              "    .dataframe tbody tr th:only-of-type {\n",
              "        vertical-align: middle;\n",
              "    }\n",
              "\n",
              "    .dataframe tbody tr th {\n",
              "        vertical-align: top;\n",
              "    }\n",
              "\n",
              "    .dataframe thead th {\n",
              "        text-align: right;\n",
              "    }\n",
              "</style>\n",
              "<table border=\"1\" class=\"dataframe\">\n",
              "  <thead>\n",
              "    <tr style=\"text-align: right;\">\n",
              "      <th></th>\n",
              "      <th>1.0</th>\n",
              "    </tr>\n",
              "  </thead>\n",
              "  <tbody>\n",
              "    <tr>\n",
              "      <th>0</th>\n",
              "      <td>0</td>\n",
              "    </tr>\n",
              "    <tr>\n",
              "      <th>1</th>\n",
              "      <td>0</td>\n",
              "    </tr>\n",
              "    <tr>\n",
              "      <th>2</th>\n",
              "      <td>0</td>\n",
              "    </tr>\n",
              "    <tr>\n",
              "      <th>3</th>\n",
              "      <td>0</td>\n",
              "    </tr>\n",
              "    <tr>\n",
              "      <th>4</th>\n",
              "      <td>0</td>\n",
              "    </tr>\n",
              "    <tr>\n",
              "      <th>...</th>\n",
              "      <td>...</td>\n",
              "    </tr>\n",
              "    <tr>\n",
              "      <th>917</th>\n",
              "      <td>0</td>\n",
              "    </tr>\n",
              "    <tr>\n",
              "      <th>918</th>\n",
              "      <td>0</td>\n",
              "    </tr>\n",
              "    <tr>\n",
              "      <th>919</th>\n",
              "      <td>0</td>\n",
              "    </tr>\n",
              "    <tr>\n",
              "      <th>920</th>\n",
              "      <td>0</td>\n",
              "    </tr>\n",
              "    <tr>\n",
              "      <th>921</th>\n",
              "      <td>0</td>\n",
              "    </tr>\n",
              "  </tbody>\n",
              "</table>\n",
              "<p>922 rows × 1 columns</p>\n",
              "</div>"
            ],
            "text/plain": [
              "     1.0\n",
              "0      0\n",
              "1      0\n",
              "2      0\n",
              "3      0\n",
              "4      0\n",
              "..   ...\n",
              "917    0\n",
              "918    0\n",
              "919    0\n",
              "920    0\n",
              "921    0\n",
              "\n",
              "[922 rows x 1 columns]"
            ]
          },
          "metadata": {
            "tags": []
          },
          "execution_count": 40
        }
      ]
    },
    {
      "cell_type": "code",
      "metadata": {
        "id": "8S6LQevP8xF_",
        "colab_type": "code",
        "colab": {}
      },
      "source": [
        "high_risk_exposure_occupation = pd.get_dummies(df['high_risk_exposure_occupation'], drop_first=True)\n",
        "high_risk_interactions = pd.get_dummies(df['high_risk_interactions'], drop_first=True)\n",
        "cxr_link = pd.get_dummies('cxr_link')\n",
        "cxr_impression = pd.get_dummies(df['cxr_impression'])\n",
        "cxr_finding = pd.get_dummies(df['cxr_findings'])\n",
        "ctab = pd.get_dummies(df['ctab'], drop_first=True)\n",
        "laboured_respiration = pd.get_dummies(df['labored_respiration'], drop_first=True)\n",
        "ronchi = pd.get_dummies(df['rhonchi'], drop_first=True)\n",
        "weezes = pd.get_dummies(df['wheezes'], drop_first=True)\n",
        "fatigue = pd.get_dummies(df['fatigue'], drop_first=True)\n",
        "headache = pd.get_dummies(df['headache'], drop_first=True)\n",
        "runny_nose = pd.get_dummies(df['runny_nose'], drop_first=True)\n",
        "muscle_sore = pd.get_dummies(df['muscle_sore'], drop_first=True)\n",
        "diariah = pd.get_dummies(df['diarrhea'], drop_first=True)\n",
        "sore_throat = pd.get_dummies(df['sore_throat'], drop_first=True)\n",
        "sob = pd.get_dummies(df['sob'], drop_first=True)\n",
        "clinic_state = pd.get_dummies(df['clinic_state'])\n",
        "dia = pd.get_dummies(df['dia'])\n",
        "sar_co2 = pd.get_dummies(df['test_name'], drop_first = True)\n",
        "a1 = sar_co2['SARS COV 2 RNA RTPCR'] + sar_co2['SARS CoV w/CoV 2 RNA'] +sar_co2['SARS-CoV-2, NAA']\n",
        "diabetes = pd.get_dummies(df['diabetes'], drop_first = True)\n",
        "chd = pd.get_dummies(df['chd'], drop_first = True)\n",
        "cancer =pd.get_dummies(df['cancer'], drop_first = True)\n",
        "asthma = pd.get_dummies(df['asthma'], drop_first = True)\n",
        "copd = pd.get_dummies(df['copd'], drop_first = True)\n",
        "autoimmune_dis = pd.get_dummies(df['autoimmune_dis'], drop_first = True)\n",
        "loss_taste = pd.get_dummies(df['loss_of_taste'], drop_first=True)\n",
        "loss_smell = pd.get_dummies(df['loss_of_smell'], drop_first=True)\n",
        "\n",
        "new_data = pd.concat([clinic_state,a1,diabetes,chd,cancer,\n",
        "                  asthma,copd,autoimmune_dis,diariah,\n",
        "                 sob,sore_throat,muscle_sore,runny_nose,\n",
        "                 loss_taste, loss_smell, headache,fatigue,\n",
        "\n",
        "                       weezes,\n",
        "                 ronchi, laboured_respiration,\n",
        "                     ctab,\n",
        "                      high_risk_interactions, high_risk_exposure_occupation],\n",
        "                      axis =1)\n",
        "\n",
        "#new_data"
      ],
      "execution_count": null,
      "outputs": []
    },
    {
      "cell_type": "code",
      "metadata": {
        "id": "7U8_i68y8xGD",
        "colab_type": "code",
        "colab": {},
        "outputId": "ae4283ab-4553-4ffb-870c-6dcdf68c24f4"
      },
      "source": [
        "new_data.columns = ['clinic_state','Sars_co2','diabetes','chd','cancer',\n",
        "                 'asthma','copd','autoimmune_dis','diariah_0.227273',\n",
        "               'diariah_1.000000', 'sob', 'sore_throat_0.820896',\n",
        "               'sore_throat_0.1', 'muscle_sore_0.68','muscle_sore_1.0',\n",
        "              'runny_nose_0.5', 'runny_nose_1.0', 'loss_taste_0.26',\n",
        "               'loss_taste_1.0', 'loss_smell_0.30', 'loss_smell_1.0',\n",
        "              'headache_0.80', 'headache_1.0', 'fatigue_0.85','fatigue_1.0'\n",
        "               , 'weezes_0.0525', 'weezes_1.0',\n",
        "                    'ronchi_0.026616',\n",
        "               'ronchi_1.0', 'laboured_respiration_0.006818', 'laboured_respiration_1.0',\n",
        "               'ctab_0.924', 'ctab_1.0',\n",
        "               'high_risk_interactions_0.550173',\n",
        "                'high_risk_interactions_1.0', 'high_risk_exposure_occupation_0.437677',\n",
        "                'high_risk_exposure_occupation_1.0'\n",
        "                   ]\n",
        "new_data"
      ],
      "execution_count": null,
      "outputs": [
        {
          "output_type": "error",
          "ename": "ValueError",
          "evalue": "Length mismatch: Expected axis has 23 elements, new values have 37 elements",
          "traceback": [
            "\u001b[0;31m---------------------------------------------------------------------------\u001b[0m",
            "\u001b[0;31mValueError\u001b[0m                                Traceback (most recent call last)",
            "\u001b[0;32m<ipython-input-45-4a8da1eefccb>\u001b[0m in \u001b[0;36m<module>\u001b[0;34m\u001b[0m\n\u001b[1;32m     12\u001b[0m                \u001b[0;34m'high_risk_interactions_0.550173'\u001b[0m\u001b[0;34m,\u001b[0m\u001b[0;34m\u001b[0m\u001b[0;34m\u001b[0m\u001b[0m\n\u001b[1;32m     13\u001b[0m                 \u001b[0;34m'high_risk_interactions_1.0'\u001b[0m\u001b[0;34m,\u001b[0m \u001b[0;34m'high_risk_exposure_occupation_0.437677'\u001b[0m\u001b[0;34m,\u001b[0m\u001b[0;34m\u001b[0m\u001b[0;34m\u001b[0m\u001b[0m\n\u001b[0;32m---> 14\u001b[0;31m                 \u001b[0;34m'high_risk_exposure_occupation_1.0'\u001b[0m\u001b[0;34m\u001b[0m\u001b[0;34m\u001b[0m\u001b[0m\n\u001b[0m\u001b[1;32m     15\u001b[0m                    ]\n\u001b[1;32m     16\u001b[0m \u001b[0mnew_data\u001b[0m\u001b[0;34m\u001b[0m\u001b[0;34m\u001b[0m\u001b[0m\n",
            "\u001b[0;32m~/anaconda3/lib/python3.7/site-packages/pandas/core/generic.py\u001b[0m in \u001b[0;36m__setattr__\u001b[0;34m(self, name, value)\u001b[0m\n\u001b[1;32m   5285\u001b[0m         \u001b[0;32mtry\u001b[0m\u001b[0;34m:\u001b[0m\u001b[0;34m\u001b[0m\u001b[0;34m\u001b[0m\u001b[0m\n\u001b[1;32m   5286\u001b[0m             \u001b[0mobject\u001b[0m\u001b[0;34m.\u001b[0m\u001b[0m__getattribute__\u001b[0m\u001b[0;34m(\u001b[0m\u001b[0mself\u001b[0m\u001b[0;34m,\u001b[0m \u001b[0mname\u001b[0m\u001b[0;34m)\u001b[0m\u001b[0;34m\u001b[0m\u001b[0;34m\u001b[0m\u001b[0m\n\u001b[0;32m-> 5287\u001b[0;31m             \u001b[0;32mreturn\u001b[0m \u001b[0mobject\u001b[0m\u001b[0;34m.\u001b[0m\u001b[0m__setattr__\u001b[0m\u001b[0;34m(\u001b[0m\u001b[0mself\u001b[0m\u001b[0;34m,\u001b[0m \u001b[0mname\u001b[0m\u001b[0;34m,\u001b[0m \u001b[0mvalue\u001b[0m\u001b[0;34m)\u001b[0m\u001b[0;34m\u001b[0m\u001b[0;34m\u001b[0m\u001b[0m\n\u001b[0m\u001b[1;32m   5288\u001b[0m         \u001b[0;32mexcept\u001b[0m \u001b[0mAttributeError\u001b[0m\u001b[0;34m:\u001b[0m\u001b[0;34m\u001b[0m\u001b[0;34m\u001b[0m\u001b[0m\n\u001b[1;32m   5289\u001b[0m             \u001b[0;32mpass\u001b[0m\u001b[0;34m\u001b[0m\u001b[0;34m\u001b[0m\u001b[0m\n",
            "\u001b[0;32mpandas/_libs/properties.pyx\u001b[0m in \u001b[0;36mpandas._libs.properties.AxisProperty.__set__\u001b[0;34m()\u001b[0m\n",
            "\u001b[0;32m~/anaconda3/lib/python3.7/site-packages/pandas/core/generic.py\u001b[0m in \u001b[0;36m_set_axis\u001b[0;34m(self, axis, labels)\u001b[0m\n\u001b[1;32m    659\u001b[0m \u001b[0;34m\u001b[0m\u001b[0m\n\u001b[1;32m    660\u001b[0m     \u001b[0;32mdef\u001b[0m \u001b[0m_set_axis\u001b[0m\u001b[0;34m(\u001b[0m\u001b[0mself\u001b[0m\u001b[0;34m,\u001b[0m \u001b[0maxis\u001b[0m\u001b[0;34m,\u001b[0m \u001b[0mlabels\u001b[0m\u001b[0;34m)\u001b[0m \u001b[0;34m->\u001b[0m \u001b[0;32mNone\u001b[0m\u001b[0;34m:\u001b[0m\u001b[0;34m\u001b[0m\u001b[0;34m\u001b[0m\u001b[0m\n\u001b[0;32m--> 661\u001b[0;31m         \u001b[0mself\u001b[0m\u001b[0;34m.\u001b[0m\u001b[0m_data\u001b[0m\u001b[0;34m.\u001b[0m\u001b[0mset_axis\u001b[0m\u001b[0;34m(\u001b[0m\u001b[0maxis\u001b[0m\u001b[0;34m,\u001b[0m \u001b[0mlabels\u001b[0m\u001b[0;34m)\u001b[0m\u001b[0;34m\u001b[0m\u001b[0;34m\u001b[0m\u001b[0m\n\u001b[0m\u001b[1;32m    662\u001b[0m         \u001b[0mself\u001b[0m\u001b[0;34m.\u001b[0m\u001b[0m_clear_item_cache\u001b[0m\u001b[0;34m(\u001b[0m\u001b[0;34m)\u001b[0m\u001b[0;34m\u001b[0m\u001b[0;34m\u001b[0m\u001b[0m\n\u001b[1;32m    663\u001b[0m \u001b[0;34m\u001b[0m\u001b[0m\n",
            "\u001b[0;32m~/anaconda3/lib/python3.7/site-packages/pandas/core/internals/managers.py\u001b[0m in \u001b[0;36mset_axis\u001b[0;34m(self, axis, new_labels)\u001b[0m\n\u001b[1;32m    176\u001b[0m         \u001b[0;32mif\u001b[0m \u001b[0mnew_len\u001b[0m \u001b[0;34m!=\u001b[0m \u001b[0mold_len\u001b[0m\u001b[0;34m:\u001b[0m\u001b[0;34m\u001b[0m\u001b[0;34m\u001b[0m\u001b[0m\n\u001b[1;32m    177\u001b[0m             raise ValueError(\n\u001b[0;32m--> 178\u001b[0;31m                 \u001b[0;34mf\"Length mismatch: Expected axis has {old_len} elements, new \"\u001b[0m\u001b[0;34m\u001b[0m\u001b[0;34m\u001b[0m\u001b[0m\n\u001b[0m\u001b[1;32m    179\u001b[0m                 \u001b[0;34mf\"values have {new_len} elements\"\u001b[0m\u001b[0;34m\u001b[0m\u001b[0;34m\u001b[0m\u001b[0m\n\u001b[1;32m    180\u001b[0m             )\n",
            "\u001b[0;31mValueError\u001b[0m: Length mismatch: Expected axis has 23 elements, new values have 37 elements"
          ]
        }
      ]
    },
    {
      "cell_type": "code",
      "metadata": {
        "id": "0zOJEnlG8xGF",
        "colab_type": "code",
        "colab": {},
        "outputId": "d7dc1cd8-0c82-4b02-a490-e53ef77a6c6b"
      },
      "source": [
        "import numpy as np\n",
        "x = pd.concat([pulse_data, sats_data, rr_data, fever_data,\n",
        "               chd_htn, cough_data, dia_data, new_data], axis = 1 )\n",
        "X = np.array(x)\n",
        "x.head(5)"
      ],
      "execution_count": null,
      "outputs": [
        {
          "output_type": "execute_result",
          "data": {
            "text/html": [
              "<div>\n",
              "<style scoped>\n",
              "    .dataframe tbody tr th:only-of-type {\n",
              "        vertical-align: middle;\n",
              "    }\n",
              "\n",
              "    .dataframe tbody tr th {\n",
              "        vertical-align: top;\n",
              "    }\n",
              "\n",
              "    .dataframe thead th {\n",
              "        text-align: right;\n",
              "    }\n",
              "</style>\n",
              "<table border=\"1\" class=\"dataframe\">\n",
              "  <thead>\n",
              "    <tr style=\"text-align: right;\">\n",
              "      <th></th>\n",
              "      <th>normal_pulse1</th>\n",
              "      <th>normal_pulse2</th>\n",
              "      <th>normal_pulse3</th>\n",
              "      <th>normal_pulse4</th>\n",
              "      <th>normal_pulse5</th>\n",
              "      <th>high_pulse</th>\n",
              "      <th>sats_1</th>\n",
              "      <th>sats2</th>\n",
              "      <th>sats4</th>\n",
              "      <th>sats5</th>\n",
              "      <th>...</th>\n",
              "      <th>ronchi_0.026616</th>\n",
              "      <th>ronchi_1.0</th>\n",
              "      <th>laboured_respiration_0.006818</th>\n",
              "      <th>laboured_respiration_1.0</th>\n",
              "      <th>ctab_0.924</th>\n",
              "      <th>ctab_1.0</th>\n",
              "      <th>high_risk_interactions_0.550173</th>\n",
              "      <th>high_risk_interactions_1.0</th>\n",
              "      <th>high_risk_exposure_occupation_0.437677</th>\n",
              "      <th>high_risk_exposure_occupation_1.0</th>\n",
              "    </tr>\n",
              "  </thead>\n",
              "  <tbody>\n",
              "    <tr>\n",
              "      <th>0</th>\n",
              "      <td>0</td>\n",
              "      <td>0</td>\n",
              "      <td>0</td>\n",
              "      <td>0</td>\n",
              "      <td>1</td>\n",
              "      <td>0</td>\n",
              "      <td>0</td>\n",
              "      <td>0</td>\n",
              "      <td>0</td>\n",
              "      <td>0</td>\n",
              "      <td>...</td>\n",
              "      <td>0</td>\n",
              "      <td>0</td>\n",
              "      <td>0</td>\n",
              "      <td>0</td>\n",
              "      <td>0</td>\n",
              "      <td>1</td>\n",
              "      <td>1</td>\n",
              "      <td>0</td>\n",
              "      <td>0</td>\n",
              "      <td>1</td>\n",
              "    </tr>\n",
              "    <tr>\n",
              "      <th>1</th>\n",
              "      <td>1</td>\n",
              "      <td>0</td>\n",
              "      <td>0</td>\n",
              "      <td>0</td>\n",
              "      <td>0</td>\n",
              "      <td>0</td>\n",
              "      <td>0</td>\n",
              "      <td>0</td>\n",
              "      <td>0</td>\n",
              "      <td>0</td>\n",
              "      <td>...</td>\n",
              "      <td>0</td>\n",
              "      <td>1</td>\n",
              "      <td>0</td>\n",
              "      <td>0</td>\n",
              "      <td>0</td>\n",
              "      <td>0</td>\n",
              "      <td>1</td>\n",
              "      <td>0</td>\n",
              "      <td>0</td>\n",
              "      <td>0</td>\n",
              "    </tr>\n",
              "    <tr>\n",
              "      <th>2</th>\n",
              "      <td>0</td>\n",
              "      <td>0</td>\n",
              "      <td>0</td>\n",
              "      <td>1</td>\n",
              "      <td>0</td>\n",
              "      <td>0</td>\n",
              "      <td>0</td>\n",
              "      <td>0</td>\n",
              "      <td>0</td>\n",
              "      <td>1</td>\n",
              "      <td>...</td>\n",
              "      <td>0</td>\n",
              "      <td>0</td>\n",
              "      <td>0</td>\n",
              "      <td>0</td>\n",
              "      <td>0</td>\n",
              "      <td>1</td>\n",
              "      <td>1</td>\n",
              "      <td>0</td>\n",
              "      <td>0</td>\n",
              "      <td>1</td>\n",
              "    </tr>\n",
              "    <tr>\n",
              "      <th>3</th>\n",
              "      <td>0</td>\n",
              "      <td>0</td>\n",
              "      <td>0</td>\n",
              "      <td>1</td>\n",
              "      <td>0</td>\n",
              "      <td>0</td>\n",
              "      <td>0</td>\n",
              "      <td>0</td>\n",
              "      <td>0</td>\n",
              "      <td>0</td>\n",
              "      <td>...</td>\n",
              "      <td>0</td>\n",
              "      <td>0</td>\n",
              "      <td>0</td>\n",
              "      <td>0</td>\n",
              "      <td>0</td>\n",
              "      <td>1</td>\n",
              "      <td>1</td>\n",
              "      <td>0</td>\n",
              "      <td>1</td>\n",
              "      <td>0</td>\n",
              "    </tr>\n",
              "    <tr>\n",
              "      <th>4</th>\n",
              "      <td>0</td>\n",
              "      <td>1</td>\n",
              "      <td>0</td>\n",
              "      <td>0</td>\n",
              "      <td>0</td>\n",
              "      <td>0</td>\n",
              "      <td>0</td>\n",
              "      <td>0</td>\n",
              "      <td>0</td>\n",
              "      <td>0</td>\n",
              "      <td>...</td>\n",
              "      <td>0</td>\n",
              "      <td>0</td>\n",
              "      <td>0</td>\n",
              "      <td>0</td>\n",
              "      <td>0</td>\n",
              "      <td>1</td>\n",
              "      <td>1</td>\n",
              "      <td>0</td>\n",
              "      <td>1</td>\n",
              "      <td>0</td>\n",
              "    </tr>\n",
              "  </tbody>\n",
              "</table>\n",
              "<p>5 rows × 58 columns</p>\n",
              "</div>"
            ],
            "text/plain": [
              "   normal_pulse1  normal_pulse2  normal_pulse3  normal_pulse4  normal_pulse5  \\\n",
              "0              0              0              0              0              1   \n",
              "1              1              0              0              0              0   \n",
              "2              0              0              0              1              0   \n",
              "3              0              0              0              1              0   \n",
              "4              0              1              0              0              0   \n",
              "\n",
              "   high_pulse  sats_1  sats2  sats4  sats5  ...  ronchi_0.026616  ronchi_1.0  \\\n",
              "0           0       0      0      0      0  ...                0           0   \n",
              "1           0       0      0      0      0  ...                0           1   \n",
              "2           0       0      0      0      1  ...                0           0   \n",
              "3           0       0      0      0      0  ...                0           0   \n",
              "4           0       0      0      0      0  ...                0           0   \n",
              "\n",
              "   laboured_respiration_0.006818  laboured_respiration_1.0  ctab_0.924  \\\n",
              "0                              0                         0           0   \n",
              "1                              0                         0           0   \n",
              "2                              0                         0           0   \n",
              "3                              0                         0           0   \n",
              "4                              0                         0           0   \n",
              "\n",
              "   ctab_1.0  high_risk_interactions_0.550173  high_risk_interactions_1.0  \\\n",
              "0         1                                1                           0   \n",
              "1         0                                1                           0   \n",
              "2         1                                1                           0   \n",
              "3         1                                1                           0   \n",
              "4         1                                1                           0   \n",
              "\n",
              "   high_risk_exposure_occupation_0.437677  high_risk_exposure_occupation_1.0  \n",
              "0                                       0                                  1  \n",
              "1                                       0                                  0  \n",
              "2                                       0                                  1  \n",
              "3                                       1                                  0  \n",
              "4                                       1                                  0  \n",
              "\n",
              "[5 rows x 58 columns]"
            ]
          },
          "metadata": {
            "tags": []
          },
          "execution_count": 15
        }
      ]
    },
    {
      "cell_type": "code",
      "metadata": {
        "id": "izfK23KK8xGH",
        "colab_type": "code",
        "colab": {}
      },
      "source": [
        ""
      ],
      "execution_count": null,
      "outputs": []
    },
    {
      "cell_type": "code",
      "metadata": {
        "id": "ZQDJKFb78xGJ",
        "colab_type": "code",
        "colab": {}
      },
      "source": [
        ""
      ],
      "execution_count": null,
      "outputs": []
    },
    {
      "cell_type": "code",
      "metadata": {
        "id": "p_s3GB2i8xGL",
        "colab_type": "code",
        "colab": {}
      },
      "source": [
        ""
      ],
      "execution_count": null,
      "outputs": []
    },
    {
      "cell_type": "code",
      "metadata": {
        "id": "ZnQYjcX68xGN",
        "colab_type": "code",
        "colab": {},
        "outputId": "f0e7cebf-3db2-43c8-dcd0-af6b59d70fd1"
      },
      "source": [
        "x.shape"
      ],
      "execution_count": null,
      "outputs": [
        {
          "output_type": "execute_result",
          "data": {
            "text/plain": [
              "(922, 58)"
            ]
          },
          "metadata": {
            "tags": []
          },
          "execution_count": 16
        }
      ]
    },
    {
      "cell_type": "code",
      "metadata": {
        "id": "9o19XcY18xGP",
        "colab_type": "code",
        "colab": {}
      },
      "source": [
        ""
      ],
      "execution_count": null,
      "outputs": []
    },
    {
      "cell_type": "code",
      "metadata": {
        "id": "CP5zt9iZ8xGR",
        "colab_type": "code",
        "colab": {},
        "outputId": "15e36497-692d-4b3a-9a48-c2b29ee5ae02"
      },
      "source": [
        "pd.DataFrame({'X_features':x.columns})"
      ],
      "execution_count": null,
      "outputs": [
        {
          "output_type": "execute_result",
          "data": {
            "text/html": [
              "<div>\n",
              "<style scoped>\n",
              "    .dataframe tbody tr th:only-of-type {\n",
              "        vertical-align: middle;\n",
              "    }\n",
              "\n",
              "    .dataframe tbody tr th {\n",
              "        vertical-align: top;\n",
              "    }\n",
              "\n",
              "    .dataframe thead th {\n",
              "        text-align: right;\n",
              "    }\n",
              "</style>\n",
              "<table border=\"1\" class=\"dataframe\">\n",
              "  <thead>\n",
              "    <tr style=\"text-align: right;\">\n",
              "      <th></th>\n",
              "      <th>X_features</th>\n",
              "    </tr>\n",
              "  </thead>\n",
              "  <tbody>\n",
              "    <tr>\n",
              "      <th>0</th>\n",
              "      <td>normal_pulse1</td>\n",
              "    </tr>\n",
              "    <tr>\n",
              "      <th>1</th>\n",
              "      <td>normal_pulse2</td>\n",
              "    </tr>\n",
              "    <tr>\n",
              "      <th>2</th>\n",
              "      <td>normal_pulse3</td>\n",
              "    </tr>\n",
              "    <tr>\n",
              "      <th>3</th>\n",
              "      <td>normal_pulse4</td>\n",
              "    </tr>\n",
              "    <tr>\n",
              "      <th>4</th>\n",
              "      <td>normal_pulse5</td>\n",
              "    </tr>\n",
              "    <tr>\n",
              "      <th>5</th>\n",
              "      <td>high_pulse</td>\n",
              "    </tr>\n",
              "    <tr>\n",
              "      <th>6</th>\n",
              "      <td>sats_1</td>\n",
              "    </tr>\n",
              "    <tr>\n",
              "      <th>7</th>\n",
              "      <td>sats2</td>\n",
              "    </tr>\n",
              "    <tr>\n",
              "      <th>8</th>\n",
              "      <td>sats4</td>\n",
              "    </tr>\n",
              "    <tr>\n",
              "      <th>9</th>\n",
              "      <td>sats5</td>\n",
              "    </tr>\n",
              "    <tr>\n",
              "      <th>10</th>\n",
              "      <td>sats6</td>\n",
              "    </tr>\n",
              "    <tr>\n",
              "      <th>11</th>\n",
              "      <td>sats7</td>\n",
              "    </tr>\n",
              "    <tr>\n",
              "      <th>12</th>\n",
              "      <td>Normal_RR</td>\n",
              "    </tr>\n",
              "    <tr>\n",
              "      <th>13</th>\n",
              "      <td>High_RR</td>\n",
              "    </tr>\n",
              "    <tr>\n",
              "      <th>14</th>\n",
              "      <td>Normal_fever</td>\n",
              "    </tr>\n",
              "    <tr>\n",
              "      <th>15</th>\n",
              "      <td>High_fever</td>\n",
              "    </tr>\n",
              "    <tr>\n",
              "      <th>16</th>\n",
              "      <td>0</td>\n",
              "    </tr>\n",
              "    <tr>\n",
              "      <th>17</th>\n",
              "      <td>Moderate</td>\n",
              "    </tr>\n",
              "    <tr>\n",
              "      <th>18</th>\n",
              "      <td>Severe</td>\n",
              "    </tr>\n",
              "    <tr>\n",
              "      <th>19</th>\n",
              "      <td>Normal Dia</td>\n",
              "    </tr>\n",
              "    <tr>\n",
              "      <th>20</th>\n",
              "      <td>High Dia</td>\n",
              "    </tr>\n",
              "    <tr>\n",
              "      <th>21</th>\n",
              "      <td>clinic_state</td>\n",
              "    </tr>\n",
              "    <tr>\n",
              "      <th>22</th>\n",
              "      <td>Sars_co2</td>\n",
              "    </tr>\n",
              "    <tr>\n",
              "      <th>23</th>\n",
              "      <td>diabetes</td>\n",
              "    </tr>\n",
              "    <tr>\n",
              "      <th>24</th>\n",
              "      <td>chd</td>\n",
              "    </tr>\n",
              "    <tr>\n",
              "      <th>25</th>\n",
              "      <td>cancer</td>\n",
              "    </tr>\n",
              "    <tr>\n",
              "      <th>26</th>\n",
              "      <td>asthma</td>\n",
              "    </tr>\n",
              "    <tr>\n",
              "      <th>27</th>\n",
              "      <td>copd</td>\n",
              "    </tr>\n",
              "    <tr>\n",
              "      <th>28</th>\n",
              "      <td>autoimmune_dis</td>\n",
              "    </tr>\n",
              "    <tr>\n",
              "      <th>29</th>\n",
              "      <td>diariah_0.227273</td>\n",
              "    </tr>\n",
              "    <tr>\n",
              "      <th>30</th>\n",
              "      <td>diariah_1.000000</td>\n",
              "    </tr>\n",
              "    <tr>\n",
              "      <th>31</th>\n",
              "      <td>sob</td>\n",
              "    </tr>\n",
              "    <tr>\n",
              "      <th>32</th>\n",
              "      <td>sore_throat_0.820896</td>\n",
              "    </tr>\n",
              "    <tr>\n",
              "      <th>33</th>\n",
              "      <td>sore_throat_0.1</td>\n",
              "    </tr>\n",
              "    <tr>\n",
              "      <th>34</th>\n",
              "      <td>muscle_sore_0.68</td>\n",
              "    </tr>\n",
              "    <tr>\n",
              "      <th>35</th>\n",
              "      <td>muscle_sore_1.0</td>\n",
              "    </tr>\n",
              "    <tr>\n",
              "      <th>36</th>\n",
              "      <td>runny_nose_0.5</td>\n",
              "    </tr>\n",
              "    <tr>\n",
              "      <th>37</th>\n",
              "      <td>runny_nose_1.0</td>\n",
              "    </tr>\n",
              "    <tr>\n",
              "      <th>38</th>\n",
              "      <td>loss_taste_0.26</td>\n",
              "    </tr>\n",
              "    <tr>\n",
              "      <th>39</th>\n",
              "      <td>loss_taste_1.0</td>\n",
              "    </tr>\n",
              "    <tr>\n",
              "      <th>40</th>\n",
              "      <td>loss_smell_0.30</td>\n",
              "    </tr>\n",
              "    <tr>\n",
              "      <th>41</th>\n",
              "      <td>loss_smell_1.0</td>\n",
              "    </tr>\n",
              "    <tr>\n",
              "      <th>42</th>\n",
              "      <td>headache_0.80</td>\n",
              "    </tr>\n",
              "    <tr>\n",
              "      <th>43</th>\n",
              "      <td>headache_1.0</td>\n",
              "    </tr>\n",
              "    <tr>\n",
              "      <th>44</th>\n",
              "      <td>fatigue_0.85</td>\n",
              "    </tr>\n",
              "    <tr>\n",
              "      <th>45</th>\n",
              "      <td>fatigue_1.0</td>\n",
              "    </tr>\n",
              "    <tr>\n",
              "      <th>46</th>\n",
              "      <td>weezes_0.0525</td>\n",
              "    </tr>\n",
              "    <tr>\n",
              "      <th>47</th>\n",
              "      <td>weezes_1.0</td>\n",
              "    </tr>\n",
              "    <tr>\n",
              "      <th>48</th>\n",
              "      <td>ronchi_0.026616</td>\n",
              "    </tr>\n",
              "    <tr>\n",
              "      <th>49</th>\n",
              "      <td>ronchi_1.0</td>\n",
              "    </tr>\n",
              "    <tr>\n",
              "      <th>50</th>\n",
              "      <td>laboured_respiration_0.006818</td>\n",
              "    </tr>\n",
              "    <tr>\n",
              "      <th>51</th>\n",
              "      <td>laboured_respiration_1.0</td>\n",
              "    </tr>\n",
              "    <tr>\n",
              "      <th>52</th>\n",
              "      <td>ctab_0.924</td>\n",
              "    </tr>\n",
              "    <tr>\n",
              "      <th>53</th>\n",
              "      <td>ctab_1.0</td>\n",
              "    </tr>\n",
              "    <tr>\n",
              "      <th>54</th>\n",
              "      <td>high_risk_interactions_0.550173</td>\n",
              "    </tr>\n",
              "    <tr>\n",
              "      <th>55</th>\n",
              "      <td>high_risk_interactions_1.0</td>\n",
              "    </tr>\n",
              "    <tr>\n",
              "      <th>56</th>\n",
              "      <td>high_risk_exposure_occupation_0.437677</td>\n",
              "    </tr>\n",
              "    <tr>\n",
              "      <th>57</th>\n",
              "      <td>high_risk_exposure_occupation_1.0</td>\n",
              "    </tr>\n",
              "  </tbody>\n",
              "</table>\n",
              "</div>"
            ],
            "text/plain": [
              "                                X_features\n",
              "0                            normal_pulse1\n",
              "1                            normal_pulse2\n",
              "2                            normal_pulse3\n",
              "3                            normal_pulse4\n",
              "4                            normal_pulse5\n",
              "5                               high_pulse\n",
              "6                                   sats_1\n",
              "7                                    sats2\n",
              "8                                    sats4\n",
              "9                                    sats5\n",
              "10                                   sats6\n",
              "11                                   sats7\n",
              "12                               Normal_RR\n",
              "13                                 High_RR\n",
              "14                            Normal_fever\n",
              "15                              High_fever\n",
              "16                                       0\n",
              "17                                Moderate\n",
              "18                                  Severe\n",
              "19                              Normal Dia\n",
              "20                                High Dia\n",
              "21                            clinic_state\n",
              "22                                Sars_co2\n",
              "23                                diabetes\n",
              "24                                     chd\n",
              "25                                  cancer\n",
              "26                                  asthma\n",
              "27                                    copd\n",
              "28                          autoimmune_dis\n",
              "29                        diariah_0.227273\n",
              "30                        diariah_1.000000\n",
              "31                                     sob\n",
              "32                    sore_throat_0.820896\n",
              "33                         sore_throat_0.1\n",
              "34                        muscle_sore_0.68\n",
              "35                         muscle_sore_1.0\n",
              "36                          runny_nose_0.5\n",
              "37                          runny_nose_1.0\n",
              "38                         loss_taste_0.26\n",
              "39                          loss_taste_1.0\n",
              "40                         loss_smell_0.30\n",
              "41                          loss_smell_1.0\n",
              "42                           headache_0.80\n",
              "43                            headache_1.0\n",
              "44                            fatigue_0.85\n",
              "45                             fatigue_1.0\n",
              "46                           weezes_0.0525\n",
              "47                              weezes_1.0\n",
              "48                         ronchi_0.026616\n",
              "49                              ronchi_1.0\n",
              "50           laboured_respiration_0.006818\n",
              "51                laboured_respiration_1.0\n",
              "52                              ctab_0.924\n",
              "53                                ctab_1.0\n",
              "54         high_risk_interactions_0.550173\n",
              "55              high_risk_interactions_1.0\n",
              "56  high_risk_exposure_occupation_0.437677\n",
              "57       high_risk_exposure_occupation_1.0"
            ]
          },
          "metadata": {
            "tags": []
          },
          "execution_count": 17
        }
      ]
    },
    {
      "cell_type": "code",
      "metadata": {
        "id": "kC5fthG08xGT",
        "colab_type": "code",
        "colab": {}
      },
      "source": [
        "covid_19 = pd.get_dummies(data['covid19_test_results'])\n",
        "y = covid_19\n",
        "y = y[['Negative', 'Positive']]\n",
        "y = y['Negative'] + y['Positive']\n",
        "y = np.array(y)"
      ],
      "execution_count": null,
      "outputs": []
    },
    {
      "cell_type": "code",
      "metadata": {
        "id": "LkHc1MwR8xGV",
        "colab_type": "code",
        "colab": {}
      },
      "source": [
        "from sklearn.model_selection import train_test_split\n",
        "X_train, X_test, y_train, y_test = train_test_split(x,y, test_size = 0.30, random_state=40 ) "
      ],
      "execution_count": null,
      "outputs": []
    },
    {
      "cell_type": "code",
      "metadata": {
        "id": "U6MZNgoP8xGX",
        "colab_type": "code",
        "colab": {},
        "outputId": "a1a96179-7136-4d46-8cfd-115dcd8f521a"
      },
      "source": [
        "from keras.models import Sequential\n",
        "model = Sequential()\n",
        "from keras.layers import Dense\n",
        "from keras.optimizers import Adam\n",
        "model.add(Dense(units =10, input_shape = (58,)))\n",
        "model.add(Dense(units =12, activation = 'relu'))\n",
        "model.add(Dense(units =15, activation = 'relu'))\n",
        "model.add(Dense(units =1, activation = 'sigmoid'))\n",
        "model.compile(loss = 'binary_crossentropy', optimizer= 'Adam', metrics=['accuracy'])"
      ],
      "execution_count": null,
      "outputs": [
        {
          "output_type": "stream",
          "text": [
            "Using TensorFlow backend.\n"
          ],
          "name": "stderr"
        }
      ]
    },
    {
      "cell_type": "code",
      "metadata": {
        "id": "2hcuJaYH8xGZ",
        "colab_type": "code",
        "colab": {},
        "outputId": "b9ea0fc7-fef8-423f-f6c4-58bf949dd4f4"
      },
      "source": [
        "model.fit(X_train, y_train, epochs = 50)"
      ],
      "execution_count": null,
      "outputs": [
        {
          "output_type": "stream",
          "text": [
            "Epoch 1/50\n",
            "645/645 [==============================] - 0s 770us/step - loss: 0.6274 - accuracy: 0.6295\n",
            "Epoch 2/50\n",
            "645/645 [==============================] - 0s 110us/step - loss: 0.2697 - accuracy: 0.9984\n",
            "Epoch 3/50\n",
            "645/645 [==============================] - 0s 103us/step - loss: 0.1081 - accuracy: 0.9984\n",
            "Epoch 4/50\n",
            "645/645 [==============================] - 0s 91us/step - loss: 0.0424 - accuracy: 0.9984\n",
            "Epoch 5/50\n",
            "645/645 [==============================] - 0s 103us/step - loss: 0.0225 - accuracy: 0.9984\n",
            "Epoch 6/50\n",
            "645/645 [==============================] - 0s 98us/step - loss: 0.0167 - accuracy: 0.9984\n",
            "Epoch 7/50\n",
            "645/645 [==============================] - 0s 102us/step - loss: 0.0146 - accuracy: 0.9984\n",
            "Epoch 8/50\n",
            "645/645 [==============================] - 0s 150us/step - loss: 0.0133 - accuracy: 0.9984\n",
            "Epoch 9/50\n",
            "645/645 [==============================] - 0s 162us/step - loss: 0.0128 - accuracy: 0.9984\n",
            "Epoch 10/50\n",
            "645/645 [==============================] - 0s 149us/step - loss: 0.0124 - accuracy: 0.9984\n",
            "Epoch 11/50\n",
            "645/645 [==============================] - 0s 134us/step - loss: 0.0122 - accuracy: 0.9984\n",
            "Epoch 12/50\n",
            "645/645 [==============================] - 0s 126us/step - loss: 0.0120 - accuracy: 0.9984\n",
            "Epoch 13/50\n",
            "645/645 [==============================] - 0s 125us/step - loss: 0.0118 - accuracy: 0.9984\n",
            "Epoch 14/50\n",
            "645/645 [==============================] - 0s 154us/step - loss: 0.0117 - accuracy: 0.9984\n",
            "Epoch 15/50\n",
            "645/645 [==============================] - 0s 132us/step - loss: 0.0116 - accuracy: 0.9984\n",
            "Epoch 16/50\n",
            "645/645 [==============================] - 0s 114us/step - loss: 0.0115 - accuracy: 0.9984\n",
            "Epoch 17/50\n",
            "645/645 [==============================] - 0s 114us/step - loss: 0.0115 - accuracy: 0.9984\n",
            "Epoch 18/50\n",
            "645/645 [==============================] - 0s 101us/step - loss: 0.0113 - accuracy: 0.9984\n",
            "Epoch 19/50\n",
            "645/645 [==============================] - 0s 106us/step - loss: 0.0112 - accuracy: 0.9984\n",
            "Epoch 20/50\n",
            "645/645 [==============================] - 0s 170us/step - loss: 0.0111 - accuracy: 0.9984\n",
            "Epoch 21/50\n",
            "645/645 [==============================] - 0s 106us/step - loss: 0.0110 - accuracy: 0.9984\n",
            "Epoch 22/50\n",
            "645/645 [==============================] - 0s 97us/step - loss: 0.0109 - accuracy: 0.9984\n",
            "Epoch 23/50\n",
            "645/645 [==============================] - 0s 115us/step - loss: 0.0108 - accuracy: 0.9984\n",
            "Epoch 24/50\n",
            "645/645 [==============================] - 0s 106us/step - loss: 0.0107 - accuracy: 0.9984\n",
            "Epoch 25/50\n",
            "645/645 [==============================] - 0s 76us/step - loss: 0.0106 - accuracy: 0.9984\n",
            "Epoch 26/50\n",
            "645/645 [==============================] - 0s 78us/step - loss: 0.0104 - accuracy: 0.9984\n",
            "Epoch 27/50\n",
            "645/645 [==============================] - 0s 81us/step - loss: 0.0103 - accuracy: 0.9984\n",
            "Epoch 28/50\n",
            "645/645 [==============================] - 0s 79us/step - loss: 0.0102 - accuracy: 0.9984\n",
            "Epoch 29/50\n",
            "645/645 [==============================] - 0s 108us/step - loss: 0.0102 - accuracy: 0.9984\n",
            "Epoch 30/50\n",
            "645/645 [==============================] - 0s 128us/step - loss: 0.0100 - accuracy: 0.9984\n",
            "Epoch 31/50\n",
            "645/645 [==============================] - 0s 117us/step - loss: 0.0099 - accuracy: 0.9984\n",
            "Epoch 32/50\n",
            "645/645 [==============================] - 0s 139us/step - loss: 0.0098 - accuracy: 0.9984\n",
            "Epoch 33/50\n",
            "645/645 [==============================] - 0s 149us/step - loss: 0.0097 - accuracy: 0.9984\n",
            "Epoch 34/50\n",
            "645/645 [==============================] - 0s 152us/step - loss: 0.0096 - accuracy: 0.9984\n",
            "Epoch 35/50\n",
            "645/645 [==============================] - 0s 165us/step - loss: 0.0095 - accuracy: 0.9984\n",
            "Epoch 36/50\n",
            "645/645 [==============================] - 0s 165us/step - loss: 0.0094 - accuracy: 0.9984\n",
            "Epoch 37/50\n",
            "645/645 [==============================] - 0s 136us/step - loss: 0.0092 - accuracy: 0.9984\n",
            "Epoch 38/50\n",
            "645/645 [==============================] - 0s 203us/step - loss: 0.0091 - accuracy: 0.9984\n",
            "Epoch 39/50\n",
            "645/645 [==============================] - 0s 167us/step - loss: 0.0090 - accuracy: 0.9984\n",
            "Epoch 40/50\n",
            "645/645 [==============================] - 0s 154us/step - loss: 0.0088 - accuracy: 0.9984\n",
            "Epoch 41/50\n",
            "645/645 [==============================] - 0s 129us/step - loss: 0.0086 - accuracy: 0.9984\n",
            "Epoch 42/50\n",
            "645/645 [==============================] - 0s 157us/step - loss: 0.0085 - accuracy: 0.9984\n",
            "Epoch 43/50\n",
            "645/645 [==============================] - 0s 108us/step - loss: 0.0082 - accuracy: 0.9984\n",
            "Epoch 44/50\n",
            "645/645 [==============================] - 0s 85us/step - loss: 0.0080 - accuracy: 0.9984\n",
            "Epoch 45/50\n",
            "645/645 [==============================] - 0s 106us/step - loss: 0.0079 - accuracy: 0.9984\n",
            "Epoch 46/50\n",
            "645/645 [==============================] - 0s 84us/step - loss: 0.0076 - accuracy: 0.9984\n",
            "Epoch 47/50\n",
            "645/645 [==============================] - 0s 102us/step - loss: 0.0075 - accuracy: 0.9984\n",
            "Epoch 48/50\n",
            "645/645 [==============================] - 0s 116us/step - loss: 0.0073 - accuracy: 0.9984\n",
            "Epoch 49/50\n",
            "645/645 [==============================] - 0s 84us/step - loss: 0.0070 - accuracy: 0.9984\n",
            "Epoch 50/50\n",
            "645/645 [==============================] - 0s 108us/step - loss: 0.0068 - accuracy: 0.9984\n"
          ],
          "name": "stdout"
        },
        {
          "output_type": "execute_result",
          "data": {
            "text/plain": [
              "<keras.callbacks.callbacks.History at 0x7fb1eaec1d50>"
            ]
          },
          "metadata": {
            "tags": []
          },
          "execution_count": 21
        }
      ]
    },
    {
      "cell_type": "code",
      "metadata": {
        "id": "ZalNfFUV8xGb",
        "colab_type": "code",
        "colab": {},
        "outputId": "78f7c1c3-7fb8-4b57-c25a-aa2a98d39e7f"
      },
      "source": [
        "loss =pd.DataFrame(model.history.history)\n",
        "loss.head()"
      ],
      "execution_count": null,
      "outputs": [
        {
          "output_type": "execute_result",
          "data": {
            "text/html": [
              "<div>\n",
              "<style scoped>\n",
              "    .dataframe tbody tr th:only-of-type {\n",
              "        vertical-align: middle;\n",
              "    }\n",
              "\n",
              "    .dataframe tbody tr th {\n",
              "        vertical-align: top;\n",
              "    }\n",
              "\n",
              "    .dataframe thead th {\n",
              "        text-align: right;\n",
              "    }\n",
              "</style>\n",
              "<table border=\"1\" class=\"dataframe\">\n",
              "  <thead>\n",
              "    <tr style=\"text-align: right;\">\n",
              "      <th></th>\n",
              "      <th>loss</th>\n",
              "      <th>accuracy</th>\n",
              "    </tr>\n",
              "  </thead>\n",
              "  <tbody>\n",
              "    <tr>\n",
              "      <th>0</th>\n",
              "      <td>0.627409</td>\n",
              "      <td>0.629457</td>\n",
              "    </tr>\n",
              "    <tr>\n",
              "      <th>1</th>\n",
              "      <td>0.269672</td>\n",
              "      <td>0.998450</td>\n",
              "    </tr>\n",
              "    <tr>\n",
              "      <th>2</th>\n",
              "      <td>0.108082</td>\n",
              "      <td>0.998450</td>\n",
              "    </tr>\n",
              "    <tr>\n",
              "      <th>3</th>\n",
              "      <td>0.042358</td>\n",
              "      <td>0.998450</td>\n",
              "    </tr>\n",
              "    <tr>\n",
              "      <th>4</th>\n",
              "      <td>0.022491</td>\n",
              "      <td>0.998450</td>\n",
              "    </tr>\n",
              "  </tbody>\n",
              "</table>\n",
              "</div>"
            ],
            "text/plain": [
              "       loss  accuracy\n",
              "0  0.627409  0.629457\n",
              "1  0.269672  0.998450\n",
              "2  0.108082  0.998450\n",
              "3  0.042358  0.998450\n",
              "4  0.022491  0.998450"
            ]
          },
          "metadata": {
            "tags": []
          },
          "execution_count": 22
        }
      ]
    },
    {
      "cell_type": "code",
      "metadata": {
        "id": "zzPjDMzM8xGd",
        "colab_type": "code",
        "colab": {},
        "outputId": "44bb088b-bffb-441d-9f69-df7e6dd55230"
      },
      "source": [
        "loss.plot()"
      ],
      "execution_count": null,
      "outputs": [
        {
          "output_type": "execute_result",
          "data": {
            "text/plain": [
              "<matplotlib.axes._subplots.AxesSubplot at 0x7fb1e963a510>"
            ]
          },
          "metadata": {
            "tags": []
          },
          "execution_count": 23
        },
        {
          "output_type": "display_data",
          "data": {
            "image/png": "[encoded data removed]",
            "text/plain": [
              "<Figure size 432x288 with 1 Axes>"
            ]
          },
          "metadata": {
            "tags": [],
            "needs_background": "light"
          }
        }
      ]
    },
    {
      "cell_type": "code",
      "metadata": {
        "id": "31JNH4fz8xGf",
        "colab_type": "code",
        "colab": {},
        "outputId": "1b2a22be-e759-44b2-cd23-90f9538c80ae"
      },
      "source": [
        "y_test.shape"
      ],
      "execution_count": null,
      "outputs": [
        {
          "output_type": "execute_result",
          "data": {
            "text/plain": [
              "(277,)"
            ]
          },
          "metadata": {
            "tags": []
          },
          "execution_count": 24
        }
      ]
    },
    {
      "cell_type": "code",
      "metadata": {
        "id": "QPtAKj-28xGi",
        "colab_type": "code",
        "colab": {}
      },
      "source": [
        ""
      ],
      "execution_count": null,
      "outputs": []
    },
    {
      "cell_type": "code",
      "metadata": {
        "id": "0ZgF-0pp8xGj",
        "colab_type": "code",
        "colab": {},
        "outputId": "a00243af-7ea3-4406-ca99-65aca824cdff"
      },
      "source": [
        "X = [[1., 1., 1., 1., 1., 1., 1., 1., 1., 1., 1., 1., 1., 1., 1., 1.,\n",
        "       1.,1., 1., 1., 1., 1., 1., 1., 1., 1., 1., 1., 1., 1., 1., 1., 1., 1.,\n",
        "       1., 1., 1., 1., 1.,1.],[1., 1., 1., 1., 1., 1., 1., 1., 1., 1., 1., 1., 1., 1., 1., 1.,\n",
        "       1.,1., 1., 1., 1., 1., 1., 1., 1., 1., 1., 1., 1., 1., 1., 1., 1., 1.,\n",
        "       1., 1., 1., 1., 1.,1.],[1., 1., 1., 1., 1., 1., 1., 1., 1., 1., 1., 1., 1., 1., 1., 1.,\n",
        "       1.,1., 1., 1., 1., 1., 1., 1., 1., 1., 1., 1., 1., 1., 1., 1., 1., 1.,\n",
        "       1., 1., 1., 1., 1.,1.],[1., 1., 1., 1., 1., 1., 1., 1., 1., 1., 1., 1., 1., 1., 1., 1.,\n",
        "       1.,1., 1., 1., 1., 1., 1., 1., 1., 1., 1., 1., 1., 1., 1., 1., 1., 1.,\n",
        "       1., 1., 1., 1., 1.,1.],[1., 1., 1., 1., 1., 1., 1., 1., 1., 1., 1., 1., 1., 1., 1., 1.,\n",
        "       1.,1., 1., 1., 1., 1., 1., 1., 1., 1., 1., 1., 1., 1., 1., 1., 1., 1.,\n",
        "       1., 1., 1., 1., 1.,1.],[1., 1., 1., 1., 1., 1., 1., 1., 1., 1., 1., 1., 1., 1., 1., 1.,\n",
        "       1.,1., 1., 1., 1., 1., 1., 1., 1., 1., 1., 1., 1., 1., 1., 1., 1., 1.,\n",
        "       1., 1., 1., 1., 1.,1.],[1., 1., 1., 1., 1., 1., 1., 1., 1., 1., 1., 1., 1., 1., 1., 1.,\n",
        "       1.,1., 1., 1., 1., 1., 1., 1., 1., 1., 1., 1., 1., 1., 1., 1., 1., 1.,\n",
        "       1., 1., 1., 1., 1.,1.],[1., 1., 1., 1., 1., 1., 1., 1., 1., 1., 1., 1., 1., 1., 1., 1.,\n",
        "       1.,1., 1., 1., 1., 1., 1., 1., 1., 1., 1., 1., 1., 1., 1., 1., 1., 1.,\n",
        "       1., 1., 1., 1., 1.,1.],[1., 1., 1., 1., 1., 1., 1., 1., 1., 1., 1., 1., 1., 1., 1., 1.,\n",
        "       1.,1., 1., 1., 1., 1., 1., 1., 1., 1., 1., 1., 1., 1., 1., 1., 1., 1.,\n",
        "       1., 1., 1., 1., 1.,1.],[1., 1., 1., 1., 1., 1., 1., 1., 1., 1., 1., 1., 1., 1., 1., 1.,\n",
        "       1.,1., 1., 1., 1., 1., 1., 1., 1., 1., 1., 1., 1., 1., 1., 1., 1., 1.,\n",
        "       1., 1., 1., 1., 1.,1.],[1., 1., 1., 1., 1., 1., 1., 1., 1., 1., 1., 1., 1., 1., 1., 1.,\n",
        "       1.,1., 1., 1., 1., 1., 1., 1., 1., 1., 1., 1., 1., 1., 1., 1., 1., 1.,\n",
        "       1., 1., 1., 1., 1.,1.],[1., 1., 1., 1., 1., 1., 1., 1., 1., 1., 1., 1., 1., 1., 1., 1.,\n",
        "       1.,1., 1., 1., 1., 1., 1., 1., 1., 1., 1., 1., 1., 1., 1., 1., 1., 1.,\n",
        "       1., 1., 1., 1., 1.,1.],[1., 1., 1., 1., 1., 1., 1., 1., 1., 1., 1., 1., 1., 1., 1., 1.,\n",
        "       1.,1., 1., 1., 1., 1., 1., 1., 1., 1., 1., 1., 1., 1., 1., 1., 1., 1.,\n",
        "       1., 1., 1., 1., 1.,1.],[1., 1., 1., 1., 1., 1., 1., 1., 1., 1., 1., 1., 1., 1., 1., 1.,\n",
        "       1.,1., 1., 1., 1., 1., 1., 1., 1., 1., 1., 1., 1., 1., 1., 1., 1., 1.,\n",
        "       1., 1., 1., 1., 1.,1.],[1., 1., 1., 1., 1., 1., 1., 1., 1., 1., 1., 1., 1., 1., 1., 1.,\n",
        "       1.,1., 1., 1., 1., 1., 1., 1., 1., 1., 1., 1., 1., 1., 1., 1., 1., 1.,\n",
        "       1., 1., 1., 1., 1.,1.],[1., 1., 1., 1., 1., 1., 1., 1., 1., 1., 1., 1., 1., 1., 1., 1.,\n",
        "       1.,1., 1., 1., 1., 1., 1., 1., 1., 1., 1., 1., 1., 1., 1., 1., 1., 1.,\n",
        "       1., 1., 1., 1., 1.,1.],[1., 1., 1., 1., 1., 1., 1., 1., 1., 1., 1., 1., 1., 1., 1., 1.,\n",
        "       1.,1., 1., 1., 1., 1., 1., 1., 1., 1., 1., 1., 1., 1., 1., 1., 1., 1.,\n",
        "       1., 1., 1., 1., 1.,1.],[1., 1., 1., 1., 1., 1., 1., 1., 1., 1., 1., 1., 1., 1., 1., 1.,\n",
        "       1.,1., 1., 1., 1., 1., 1., 1., 1., 1., 1., 1., 1., 1., 1., 1., 1., 1.,\n",
        "       1., 1., 1., 1., 1.,1.],[1., 1., 1., 1., 1., 1., 1., 1., 1., 1., 1., 1., 1., 1., 1., 1.,\n",
        "       1.,1., 1., 1., 1., 1., 1., 1., 1., 1., 1., 1., 1., 1., 1., 1., 1., 1.,\n",
        "       1., 1., 1., 1., 1.,1.],[1., 1., 1., 1., 1., 1., 1., 1., 1., 1., 1., 1., 1., 1., 1., 1.,\n",
        "       1.,1., 1., 1., 1., 1., 1., 1., 1., 1., 1., 1., 1., 1., 1., 1., 1., 1.,\n",
        "       1., 1., 1., 1., 1.,1.],[1., 1., 1., 1., 1., 1., 1., 1., 1., 1., 1., 1., 1., 1., 1., 1.,\n",
        "       1.,1., 1., 1., 1., 1., 1., 1., 1., 1., 1., 1., 1., 1., 1., 1., 1., 1.,\n",
        "       1., 1., 1., 1., 1.,1.],[1., 1., 1., 1., 1., 1., 1., 1., 1., 1., 1., 1., 1., 1., 1., 1.,\n",
        "       1.,1., 1., 1., 1., 1., 1., 1., 1., 1., 1., 1., 1., 1., 1., 1., 1., 1.,\n",
        "       1., 1., 1., 1., 1.,1.],[1., 1., 1., 1., 1., 1., 1., 1., 1., 1., 1., 1., 1., 1., 1., 1.,\n",
        "       1.,1., 1., 1., 1., 1., 1., 1., 1., 1., 1., 1., 1., 1., 1., 1., 1., 1.,\n",
        "       1., 1., 1., 1., 1.,1.],[1., 1., 1., 1., 1., 1., 1., 1., 1., 1., 1., 1., 1., 1., 1., 1.,\n",
        "       1.,1., 1., 1., 1., 1., 1., 1., 1., 1., 1., 1., 1., 1., 1., 1., 1., 1.,\n",
        "       1., 1., 1., 1., 1.,1.],[1., 1., 1., 1., 1., 1., 1., 1., 1., 1., 1., 1., 1., 1., 1., 1.,\n",
        "       1.,1., 1., 1., 1., 1., 1., 1., 1., 1., 1., 1., 1., 1., 1., 1., 1., 1.,\n",
        "       1., 1., 1., 1., 1.,1.],[1., 1., 1., 1., 1., 1., 1., 1., 1., 1., 1., 1., 1., 1., 1., 1.,\n",
        "       1.,1., 1., 1., 1., 1., 1., 1., 1., 1., 1., 1., 1., 1., 1., 1., 1., 1.,\n",
        "       1., 1., 1., 1., 1.,1.],[1., 1., 1., 1., 1., 1., 1., 1., 1., 1., 1., 1., 1., 1., 1., 1.,\n",
        "       1.,1., 1., 1., 1., 1., 1., 1., 1., 1., 1., 1., 1., 1., 1., 1., 1., 1.,\n",
        "       1., 1., 1., 1., 1.,1.],[1., 1., 1., 1., 1., 1., 1., 1., 1., 1., 1., 1., 1., 1., 1., 1.,\n",
        "       1.,1., 1., 1., 1., 1., 1., 1., 1., 1., 1., 1., 1., 1., 1., 1., 1., 1.,\n",
        "       1., 1., 1., 1., 1.,1.],[1., 1., 1., 1., 1., 1., 1., 1., 1., 1., 1., 1., 1., 1., 1., 1.,\n",
        "       1.,1., 1., 1., 1., 1., 1., 1., 1., 1., 1., 1., 1., 1., 1., 1., 1., 1.,\n",
        "       1., 1., 1., 1., 1.,1.],[1., 1., 1., 1., 1., 1., 1., 1., 1., 1., 1., 1., 1., 1., 1., 1.,\n",
        "       1.,1., 1., 1., 1., 1., 1., 1., 1., 1., 1., 1., 1., 1., 1., 1., 1., 1.,\n",
        "       1., 1., 1., 1., 1.,1.],[1., 1., 1., 1., 1., 1., 1., 1., 1., 1., 1., 1., 1., 1., 1., 1.,\n",
        "       1.,1., 1., 1., 1., 1., 1., 1., 1., 1., 1., 1., 1., 1., 1., 1., 1., 1.,\n",
        "       1., 1., 1., 1., 1.,1.],[1., 1., 1., 1., 1., 1., 1., 1., 1., 1., 1., 1., 1., 1., 1., 1.,\n",
        "       1.,1., 1., 1., 1., 1., 1., 1., 1., 1., 1., 1., 1., 1., 1., 1., 1., 1.,\n",
        "       1., 1., 1., 1., 1.,1.],[1., 1., 1., 1., 1., 1., 1., 1., 1., 1., 1., 1., 1., 1., 1., 1.,\n",
        "       1.,1., 1., 1., 1., 1., 1., 1., 1., 1., 1., 1., 1., 1., 1., 1., 1., 1.,\n",
        "       1., 1., 1., 1., 1.,1.],[1., 1., 1., 1., 1., 1., 1., 1., 1., 1., 1., 1., 1., 1., 1., 1.,\n",
        "       1.,1., 1., 1., 1., 1., 1., 1., 1., 1., 1., 1., 1., 1., 1., 1., 1., 1.,\n",
        "       1., 1., 1., 1., 1.,1.],[1., 1., 1., 1., 1., 1., 1., 1., 1., 1., 1., 1., 1., 1., 1., 1.,\n",
        "       1.,1., 1., 1., 1., 1., 1., 1., 1., 1., 1., 1., 1., 1., 1., 1., 1., 1.,\n",
        "       1., 1., 1., 1., 1.,1.],[1., 1., 1., 1., 1., 1., 1., 1., 1., 1., 1., 1., 1., 1., 1., 1.,\n",
        "       1.,1., 1., 1., 1., 1., 1., 1., 1., 1., 1., 1., 1., 1., 1., 1., 1., 1.,\n",
        "       1., 1., 1., 1., 1.,1.],[1., 1., 1., 1., 1., 1., 1., 1., 1., 1., 1., 1., 1., 1., 1., 1.,\n",
        "       1.,1., 1., 1., 1., 1., 1., 1., 1., 1., 1., 1., 1., 1., 1., 1., 1., 1.,\n",
        "       1., 1., 1., 1., 1.,1.],[1., 1., 1., 1., 1., 1., 1., 1., 1., 1., 1., 1., 1., 1., 1., 1.,\n",
        "       1.,1., 1., 1., 1., 1., 1., 1., 1., 1., 1., 1., 1., 1., 1., 1., 1., 1.,\n",
        "       1., 1., 1., 1., 1.,1.],[1., 1., 1., 1., 1., 1., 1., 1., 1., 1., 1., 1., 1., 1., 1., 1.,\n",
        "       1.,1., 1., 1., 1., 1., 1., 1., 1., 1., 1., 1., 1., 1., 1., 1., 1., 1.,\n",
        "       1., 1., 1., 1., 1.,1.],[1., 1., 1., 1., 1., 1., 1., 1., 1., 1., 1., 1., 1., 1., 1., 1.,\n",
        "       1.,1., 1., 1., 1., 1., 1., 1., 1., 1., 1., 1., 1., 1., 1., 1., 1., 1.,\n",
        "       1., 1., 1., 1., 1.,1.]]\n",
        "X = np.array(X)\n",
        "X.shape"
      ],
      "execution_count": null,
      "outputs": [
        {
          "output_type": "execute_result",
          "data": {
            "text/plain": [
              "(40, 40)"
            ]
          },
          "metadata": {
            "tags": []
          },
          "execution_count": 68
        }
      ]
    },
    {
      "cell_type": "code",
      "metadata": {
        "id": "pSL4ysWD8xGm",
        "colab_type": "code",
        "colab": {}
      },
      "source": [
        ""
      ],
      "execution_count": null,
      "outputs": []
    },
    {
      "cell_type": "code",
      "metadata": {
        "id": "2nkZIkTl8xGo",
        "colab_type": "code",
        "colab": {}
      },
      "source": [
        ""
      ],
      "execution_count": null,
      "outputs": []
    },
    {
      "cell_type": "code",
      "metadata": {
        "id": "N-Rbt9n28xGr",
        "colab_type": "code",
        "colab": {},
        "outputId": "7434ae16-98f1-4c2b-c89c-c3544ba441aa"
      },
      "source": [
        "X = [[1., 1., 1., 1., 1., 1., 1., 1., 1., 1., 1., 1., 1., 1., 1., 1., 1.,\n",
        "       1., 1., 1., 1., 1., 1., 1., 1., 1., 1., 1., 1., 1., 1., 1., 1., 1.,\n",
        "       1.,1., 1., 1., 1., 1., 1., 1., 1., 1., 1., 1., 1., 1., 1., 1., 1., 1.,\n",
        "       1., 1., 1., 1., 1.,1.],[1., 1., 1., 1., 1., 1., 1., 1., 1., 1., 1., 1., 1., 1., 1., 1., 1.,\n",
        "       1., 1., 1., 1., 1., 1., 1., 1., 1., 1., 1., 1., 1., 1., 1., 1., 1.,\n",
        "       1.,1., 1., 1., 1., 1., 1., 1., 1., 1., 1., 1., 1., 1., 1., 1., 1., 1.,\n",
        "       1., 1., 1., 1., 1.,1.],[1., 1., 1., 1., 1., 1., 1., 1., 1., 1., 1., 1., 1., 1., 1., 1., 1.,\n",
        "       1., 1., 1., 1., 1., 1., 1., 1., 1., 1., 1., 1., 1., 1., 1., 1., 1.,\n",
        "       1.,1., 1., 1., 1., 1., 1., 1., 1., 1., 1., 1., 1., 1., 1., 1., 1., 1.,\n",
        "       1., 1., 1., 1., 1.,1.],[1., 1., 1., 1., 1., 1., 1., 1., 1., 1., 1., 1., 1., 1., 1., 1., 1.,\n",
        "       1., 1., 1., 1., 1., 1., 1., 1., 1., 1., 1., 1., 1., 1., 1., 1., 1.,\n",
        "       1.,1., 1., 1., 1., 1., 1., 1., 1., 1., 1., 1., 1., 1., 1., 1., 1., 1.,\n",
        "       1., 1., 1., 1., 1.,1.],[1., 1., 1., 1., 1., 1., 1., 1., 1., 1., 1., 1., 1., 1., 1., 1., 1.,\n",
        "       1., 1., 1., 1., 1., 1., 1., 1., 1., 1., 1., 1., 1., 1., 1., 1., 1.,\n",
        "       1.,1., 1., 1., 1., 1., 1., 1., 1., 1., 1., 1., 1., 1., 1., 1., 1., 1.,\n",
        "       1., 1., 1., 1., 1.,1.],[1., 1., 1., 1., 1., 1., 1., 1., 1., 1., 1., 1., 1., 1., 1., 1., 1.,\n",
        "       1., 1., 1., 1., 1., 1., 1., 1., 1., 1., 1., 1., 1., 1., 1., 1., 1.,\n",
        "       1.,1., 1., 1., 1., 1., 1., 1., 1., 1., 1., 1., 1., 1., 1., 1., 1., 1.,\n",
        "       1., 1., 1., 1., 1.,1.],[1., 1., 1., 1., 1., 1., 1., 1., 1., 1., 1., 1., 1., 1., 1., 1., 1.,\n",
        "       1., 1., 1., 1., 1., 1., 1., 1., 1., 1., 1., 1., 1., 1., 1., 1., 1.,\n",
        "       1.,1., 1., 1., 1., 1., 1., 1., 1., 1., 1., 1., 1., 1., 1., 1., 1., 1.,\n",
        "       1., 1., 1., 1., 1.,1.],[1., 1., 1., 1., 1., 1., 1., 1., 1., 1., 1., 1., 1., 1., 1., 1., 1.,\n",
        "       1., 1., 1., 1., 1., 1., 1., 1., 1., 1., 1., 1., 1., 1., 1., 1., 1.,\n",
        "       1.,1., 1., 1., 1., 1., 1., 1., 1., 1., 1., 1., 1., 1., 1., 1., 1., 1.,\n",
        "       1., 1., 1., 1., 1.,1.],[1., 1., 1., 1., 1., 1., 1., 1., 1., 1., 1., 1., 1., 1., 1., 1., 1.,\n",
        "       1., 1., 1., 1., 1., 1., 1., 1., 1., 1., 1., 1., 1., 1., 1., 1., 1.,\n",
        "       1.,1., 1., 1., 1., 1., 1., 1., 1., 1., 1., 1., 1., 1., 1., 1., 1., 1.,\n",
        "       1., 1., 1., 1., 1.,1.],[1., 1., 1., 1., 1., 1., 1., 1., 1., 1., 1., 1., 1., 1., 1., 1., 1.,\n",
        "       1., 1., 1., 1., 1., 1., 1., 1., 1., 1., 1., 1., 1., 1., 1., 1., 1.,\n",
        "       1.,1., 1., 1., 1., 1., 1., 1., 1., 1., 1., 1., 1., 1., 1., 1., 1., 1.,\n",
        "       1., 1., 1., 1., 1.,1.],[1., 1., 1., 1., 1., 1., 1., 1., 1., 1., 1., 1., 1., 1., 1., 1., 1.,\n",
        "       1., 1., 1., 1., 1., 1., 1., 1., 1., 1., 1., 1., 1., 1., 1., 1., 1.,\n",
        "       1.,1., 1., 1., 1., 1., 1., 1., 1., 1., 1., 1., 1., 1., 1., 1., 1., 1.,\n",
        "       1., 1., 1., 1., 1.,1.],[1., 1., 1., 1., 1., 1., 1., 1., 1., 1., 1., 1., 1., 1., 1., 1., 1.,\n",
        "       1., 1., 1., 1., 1., 1., 1., 1., 1., 1., 1., 1., 1., 1., 1., 1., 1.,\n",
        "       1.,1., 1., 1., 1., 1., 1., 1., 1., 1., 1., 1., 1., 1., 1., 1., 1., 1.,\n",
        "       1., 1., 1., 1., 1.,1.],[1., 1., 1., 1., 1., 1., 1., 1., 1., 1., 1., 1., 1., 1., 1., 1., 1.,\n",
        "       1., 1., 1., 1., 1., 1., 1., 1., 1., 1., 1., 1., 1., 1., 1., 1., 1.,\n",
        "       1.,1., 1., 1., 1., 1., 1., 1., 1., 1., 1., 1., 1., 1., 1., 1., 1., 1.,\n",
        "       1., 1., 1., 1., 1.,1.],[1., 1., 1., 1., 1., 1., 1., 1., 1., 1., 1., 1., 1., 1., 1., 1., 1.,\n",
        "       1., 1., 1., 1., 1., 1., 1., 1., 1., 1., 1., 1., 1., 1., 1., 1., 1.,\n",
        "       1.,1., 1., 1., 1., 1., 1., 1., 1., 1., 1., 1., 1., 1., 1., 1., 1., 1.,\n",
        "       1., 1., 1., 1., 1.,1.],[1., 1., 1., 1., 1., 1., 1., 1., 1., 1., 1., 1., 1., 1., 1., 1., 1.,\n",
        "       1., 1., 1., 1., 1., 1., 1., 1., 1., 1., 1., 1., 1., 1., 1., 1., 1.,\n",
        "       1.,1., 1., 1., 1., 1., 1., 1., 1., 1., 1., 1., 1., 1., 1., 1., 1., 1.,\n",
        "       1., 1., 1., 1., 1.,1.],[1., 1., 1., 1., 1., 1., 1., 1., 1., 1., 1., 1., 1., 1., 1., 1., 1.,\n",
        "       1., 1., 1., 1., 1., 1., 1., 1., 1., 1., 1., 1., 1., 1., 1., 1., 1.,\n",
        "       1.,1., 1., 1., 1., 1., 1., 1., 1., 1., 1., 1., 1., 1., 1., 1., 1., 1.,\n",
        "       1., 1., 1., 1., 1.,1.],[1., 1., 1., 1., 1., 1., 1., 1., 1., 1., 1., 1., 1., 1., 1., 1., 1.,\n",
        "       1., 1., 1., 1., 1., 1., 1., 1., 1., 1., 1., 1., 1., 1., 1., 1., 1.,\n",
        "       1.,1., 1., 1., 1., 1., 1., 1., 1., 1., 1., 1., 1., 1., 1., 1., 1., 1.,\n",
        "       1., 1., 1., 1., 1.,1.],[1., 1., 1., 1., 1., 1., 1., 1., 1., 1., 1., 1., 1., 1., 1., 1., 1.,\n",
        "       1., 1., 1., 1., 1., 1., 1., 1., 1., 1., 1., 1., 1., 1., 1., 1., 1.,\n",
        "       1.,1., 1., 1., 1., 1., 1., 1., 1., 1., 1., 1., 1., 1., 1., 1., 1., 1.,\n",
        "       1., 1., 1., 1., 1.,1.],[1., 1., 1., 1., 1., 1., 1., 1., 1., 1., 1., 1., 1., 1., 1., 1., 1.,\n",
        "       1., 1., 1., 1., 1., 1., 1., 1., 1., 1., 1., 1., 1., 1., 1., 1., 1.,\n",
        "       1.,1., 1., 1., 1., 1., 1., 1., 1., 1., 1., 1., 1., 1., 1., 1., 1., 1.,\n",
        "       1., 1., 1., 1., 1.,1.],[1., 1., 1., 1., 1., 1., 1., 1., 1., 1., 1., 1., 1., 1., 1., 1., 1.,\n",
        "       1., 1., 1., 1., 1., 1., 1., 1., 1., 1., 1., 1., 1., 1., 1., 1., 1.,\n",
        "       1.,1., 1., 1., 1., 1., 1., 1., 1., 1., 1., 1., 1., 1., 1., 1., 1., 1.,\n",
        "       1., 1., 1., 1., 1.,1.],[1., 1., 1., 1., 1., 1., 1., 1., 1., 1., 1., 1., 1., 1., 1., 1., 1.,\n",
        "       1., 1., 1., 1., 1., 1., 1., 1., 1., 1., 1., 1., 1., 1., 1., 1., 1.,\n",
        "       1.,1., 1., 1., 1., 1., 1., 1., 1., 1., 1., 1., 1., 1., 1., 1., 1., 1.,\n",
        "       1., 1., 1., 1., 1.,1.],[1., 1., 1., 1., 1., 1., 1., 1., 1., 1., 1., 1., 1., 1., 1., 1., 1.,\n",
        "       1., 1., 1., 1., 1., 1., 1., 1., 1., 1., 1., 1., 1., 1., 1., 1., 1.,\n",
        "       1.,1., 1., 1., 1., 1., 1., 1., 1., 1., 1., 1., 1., 1., 1., 1., 1., 1.,\n",
        "       1., 1., 1., 1., 1.,1.],[1., 1., 1., 1., 1., 1., 1., 1., 1., 1., 1., 1., 1., 1., 1., 1., 1.,\n",
        "       1., 1., 1., 1., 1., 1., 1., 1., 1., 1., 1., 1., 1., 1., 1., 1., 1.,\n",
        "       1.,1., 1., 1., 1., 1., 1., 1., 1., 1., 1., 1., 1., 1., 1., 1., 1., 1.,\n",
        "       1., 1., 1., 1., 1.,1.],[1., 1., 1., 1., 1., 1., 1., 1., 1., 1., 1., 1., 1., 1., 1., 1., 1.,\n",
        "       1., 1., 1., 1., 1., 1., 1., 1., 1., 1., 1., 1., 1., 1., 1., 1., 1.,\n",
        "       1.,1., 1., 1., 1., 1., 1., 1., 1., 1., 1., 1., 1., 1., 1., 1., 1., 1.,\n",
        "       1., 1., 1., 1., 1.,1.],[1., 1., 1., 1., 1., 1., 1., 1., 1., 1., 1., 1., 1., 1., 1., 1., 1.,\n",
        "       1., 1., 1., 1., 1., 1., 1., 1., 1., 1., 1., 1., 1., 1., 1., 1., 1.,\n",
        "       1.,1., 1., 1., 1., 1., 1., 1., 1., 1., 1., 1., 1., 1., 1., 1., 1., 1.,\n",
        "       1., 1., 1., 1., 1.,1.],[1., 1., 1., 1., 1., 1., 1., 1., 1., 1., 1., 1., 1., 1., 1., 1., 1.,\n",
        "       1., 1., 1., 1., 1., 1., 1., 1., 1., 1., 1., 1., 1., 1., 1., 1., 1.,\n",
        "       1.,1., 1., 1., 1., 1., 1., 1., 1., 1., 1., 1., 1., 1., 1., 1., 1., 1.,\n",
        "       1., 1., 1., 1., 1.,1.],[1., 1., 1., 1., 1., 1., 1., 1., 1., 1., 1., 1., 1., 1., 1., 1., 1.,\n",
        "       1., 1., 1., 1., 1., 1., 1., 1., 1., 1., 1., 1., 1., 1., 1., 1., 1.,\n",
        "       1.,1., 1., 1., 1., 1., 1., 1., 1., 1., 1., 1., 1., 1., 1., 1., 1., 1.,\n",
        "       1., 1., 1., 1., 1.,1.],[1., 1., 1., 1., 1., 1., 1., 1., 1., 1., 1., 1., 1., 1., 1., 1., 1.,\n",
        "       1., 1., 1., 1., 1., 1., 1., 1., 1., 1., 1., 1., 1., 1., 1., 1., 1.,\n",
        "       1.,1., 1., 1., 1., 1., 1., 1., 1., 1., 1., 1., 1., 1., 1., 1., 1., 1.,\n",
        "       1., 1., 1., 1., 1.,1.],[1., 1., 1., 1., 1., 1., 1., 1., 1., 1., 1., 1., 1., 1., 1., 1., 1.,\n",
        "       1., 1., 1., 1., 1., 1., 1., 1., 1., 1., 1., 1., 1., 1., 1., 1., 1.,\n",
        "       1.,1., 1., 1., 1., 1., 1., 1., 1., 1., 1., 1., 1., 1., 1., 1., 1., 1.,\n",
        "       1., 1., 1., 1., 1.,1.],[1., 1., 1., 1., 1., 1., 1., 1., 1., 1., 1., 1., 1., 1., 1., 1., 1.,\n",
        "       1., 1., 1., 1., 1., 1., 1., 1., 1., 1., 1., 1., 1., 1., 1., 1., 1.,\n",
        "       1.,1., 1., 1., 1., 1., 1., 1., 1., 1., 1., 1., 1., 1., 1., 1., 1., 1.,\n",
        "       1., 1., 1., 1., 1.,1.],[1., 1., 1., 1., 1., 1., 1., 1., 1., 1., 1., 1., 1., 1., 1., 1., 1.,\n",
        "       1., 1., 1., 1., 1., 1., 1., 1., 1., 1., 1., 1., 1., 1., 1., 1., 1.,\n",
        "       1.,1., 1., 1., 1., 1., 1., 1., 1., 1., 1., 1., 1., 1., 1., 1., 1., 1.,\n",
        "       1., 1., 1., 1., 1.,1.],[1., 1., 1., 1., 1., 1., 1., 1., 1., 1., 1., 1., 1., 1., 1., 1., 1.,\n",
        "       1., 1., 1., 1., 1., 1., 1., 1., 1., 1., 1., 1., 1., 1., 1., 1., 1.,\n",
        "       1.,1., 1., 1., 1., 1., 1., 1., 1., 1., 1., 1., 1., 1., 1., 1., 1., 1.,\n",
        "       1., 1., 1., 1., 1.,1.],[1., 1., 1., 1., 1., 1., 1., 1., 1., 1., 1., 1., 1., 1., 1., 1., 1.,\n",
        "       1., 1., 1., 1., 1., 1., 1., 1., 1., 1., 1., 1., 1., 1., 1., 1., 1.,\n",
        "       1.,1., 1., 1., 1., 1., 1., 1., 1., 1., 1., 1., 1., 1., 1., 1., 1., 1.,\n",
        "       1., 1., 1., 1., 1.,1.],[1., 1., 1., 1., 1., 1., 1., 1., 1., 1., 1., 1., 1., 1., 1., 1., 1.,\n",
        "       1., 1., 1., 1., 1., 1., 1., 1., 1., 1., 1., 1., 1., 1., 1., 1., 1.,\n",
        "       1.,1., 1., 1., 1., 1., 1., 1., 1., 1., 1., 1., 1., 1., 1., 1., 1., 1.,\n",
        "       1., 1., 1., 1., 1.,1.],[1., 1., 1., 1., 1., 1., 1., 1., 1., 1., 1., 1., 1., 1., 1., 1., 1.,\n",
        "       1., 1., 1., 1., 1., 1., 1., 1., 1., 1., 1., 1., 1., 1., 1., 1., 1.,\n",
        "       1.,1., 1., 1., 1., 1., 1., 1., 1., 1., 1., 1., 1., 1., 1., 1., 1., 1.,\n",
        "       1., 1., 1., 1., 1.,1.],[1., 1., 1., 1., 1., 1., 1., 1., 1., 1., 1., 1., 1., 1., 1., 1., 1.,\n",
        "       1., 1., 1., 1., 1., 1., 1., 1., 1., 1., 1., 1., 1., 1., 1., 1., 1.,\n",
        "       1.,1., 1., 1., 1., 1., 1., 1., 1., 1., 1., 1., 1., 1., 1., 1., 1., 1.,\n",
        "       1., 1., 1., 1., 1.,1.],[1., 1., 1., 1., 1., 1., 1., 1., 1., 1., 1., 1., 1., 1., 1., 1., 1.,\n",
        "       1., 1., 1., 1., 1., 1., 1., 1., 1., 1., 1., 1., 1., 1., 1., 1., 1.,\n",
        "       1.,1., 1., 1., 1., 1., 1., 1., 1., 1., 1., 1., 1., 1., 1., 1., 1., 1.,\n",
        "       1., 1., 1., 1., 1.,1.],[1., 1., 1., 1., 1., 1., 1., 1., 1., 1., 1., 1., 1., 1., 1., 1., 1.,\n",
        "       1., 1., 1., 1., 1., 1., 1., 1., 1., 1., 1., 1., 1., 1., 1., 1., 1.,\n",
        "       1.,1., 1., 1., 1., 1., 1., 1., 1., 1., 1., 1., 1., 1., 1., 1., 1., 1.,\n",
        "       1., 1., 1., 1., 1.,1.],[1., 1., 1., 1., 1., 1., 1., 1., 1., 1., 1., 1., 1., 1., 1., 1., 1.,\n",
        "       1., 1., 1., 1., 1., 1., 1., 1., 1., 1., 1., 1., 1., 1., 1., 1., 1.,\n",
        "       1.,1., 1., 1., 1., 1., 1., 1., 1., 1., 1., 1., 1., 1., 1., 1., 1., 1.,\n",
        "       1., 1., 1., 1., 1.,1.],[1., 1., 1., 1., 1., 1., 1., 1., 1., 1., 1., 1., 1., 1., 1., 1., 1.,\n",
        "       1., 1., 1., 1., 1., 1., 1., 1., 1., 1., 1., 1., 1., 1., 1., 1., 1.,\n",
        "       1.,1., 1., 1., 1., 1., 1., 1., 1., 1., 1., 1., 1., 1., 1., 1., 1., 1.,\n",
        "       1., 1., 1., 1., 1.,1.]]\n",
        "y = np.array(X)     #converted y which have 35 feature into array (35,35)\n",
        "                    # so that model will predict \n",
        "y.shape"
      ],
      "execution_count": null,
      "outputs": [
        {
          "output_type": "execute_result",
          "data": {
            "text/plain": [
              "(40, 58)"
            ]
          },
          "metadata": {
            "tags": []
          },
          "execution_count": 56
        }
      ]
    },
    {
      "cell_type": "code",
      "metadata": {
        "id": "UASYNBEy8xGt",
        "colab_type": "code",
        "colab": {},
        "outputId": "f0105e8a-84cc-4bae-819a-0ad02213fce9"
      },
      "source": [
        "type(y)"
      ],
      "execution_count": null,
      "outputs": [
        {
          "output_type": "execute_result",
          "data": {
            "text/plain": [
              "numpy.ndarray"
            ]
          },
          "metadata": {
            "tags": []
          },
          "execution_count": 26
        }
      ]
    },
    {
      "cell_type": "code",
      "metadata": {
        "id": "gjaECmpI8xGv",
        "colab_type": "code",
        "colab": {},
        "outputId": "f2c067da-90b6-4811-b2d3-17eef0ce1e63"
      },
      "source": [
        "print(\"THIS IS JUST AN EXAMPLE :\",model.predict(y))"
      ],
      "execution_count": null,
      "outputs": [
        {
          "output_type": "stream",
          "text": [
            "THIS IS JUST AN EXAMPLE : [[1.]\n",
            " [1.]\n",
            " [1.]\n",
            " [1.]\n",
            " [1.]\n",
            " [1.]\n",
            " [1.]\n",
            " [1.]\n",
            " [1.]\n",
            " [1.]\n",
            " [1.]\n",
            " [1.]\n",
            " [1.]\n",
            " [1.]\n",
            " [1.]\n",
            " [1.]\n",
            " [1.]\n",
            " [1.]\n",
            " [1.]\n",
            " [1.]\n",
            " [1.]\n",
            " [1.]\n",
            " [1.]\n",
            " [1.]\n",
            " [1.]\n",
            " [1.]\n",
            " [1.]\n",
            " [1.]\n",
            " [1.]\n",
            " [1.]\n",
            " [1.]\n",
            " [1.]\n",
            " [1.]\n",
            " [1.]\n",
            " [1.]\n",
            " [1.]\n",
            " [1.]\n",
            " [1.]\n",
            " [1.]\n",
            " [1.]\n",
            " [1.]\n",
            " [1.]\n",
            " [1.]\n",
            " [1.]\n",
            " [1.]\n",
            " [1.]\n",
            " [1.]\n",
            " [1.]\n",
            " [1.]\n",
            " [1.]\n",
            " [1.]\n",
            " [1.]\n",
            " [1.]\n",
            " [1.]\n",
            " [1.]\n",
            " [1.]\n",
            " [1.]\n",
            " [1.]]\n"
          ],
          "name": "stdout"
        }
      ]
    },
    {
      "cell_type": "code",
      "metadata": {
        "id": "2E1r0Z2K8xGx",
        "colab_type": "code",
        "colab": {},
        "outputId": "d4a0736a-167c-4091-d9f4-e43a3e9fc778"
      },
      "source": [
        "print(\"Prediction on X_test data :\",model.predict(X_test))"
      ],
      "execution_count": null,
      "outputs": [
        {
          "output_type": "stream",
          "text": [
            "Prediction on X_test data : [[0.99618214]\n",
            " [0.9998708 ]\n",
            " [0.99951506]\n",
            " [0.99903345]\n",
            " [0.9995321 ]\n",
            " [0.99954057]\n",
            " [0.99919885]\n",
            " [0.99934083]\n",
            " [0.9999491 ]\n",
            " [0.9987206 ]\n",
            " [0.9997522 ]\n",
            " [0.9999856 ]\n",
            " [0.99996686]\n",
            " [0.9987789 ]\n",
            " [0.99901235]\n",
            " [0.9987218 ]\n",
            " [0.9980387 ]\n",
            " [0.99818736]\n",
            " [0.99986243]\n",
            " [0.99933726]\n",
            " [0.99973744]\n",
            " [0.99952483]\n",
            " [0.99915636]\n",
            " [0.9999355 ]\n",
            " [0.9992446 ]\n",
            " [0.99797326]\n",
            " [0.9996183 ]\n",
            " [0.99881446]\n",
            " [0.9989992 ]\n",
            " [0.9860811 ]\n",
            " [0.99671245]\n",
            " [0.99882966]\n",
            " [0.9943743 ]\n",
            " [0.998071  ]\n",
            " [0.998042  ]\n",
            " [0.99974996]\n",
            " [0.99763596]\n",
            " [0.99988115]\n",
            " [0.99846494]\n",
            " [0.9996182 ]\n",
            " [0.9997986 ]\n",
            " [0.99797684]\n",
            " [0.99966276]\n",
            " [0.99993193]\n",
            " [0.9993106 ]\n",
            " [0.99757653]\n",
            " [0.9998777 ]\n",
            " [0.9988673 ]\n",
            " [0.99992263]\n",
            " [0.99996054]\n",
            " [0.99851674]\n",
            " [0.9990546 ]\n",
            " [0.9999268 ]\n",
            " [0.9995869 ]\n",
            " [0.99996555]\n",
            " [0.9997179 ]\n",
            " [0.9999486 ]\n",
            " [0.9992217 ]\n",
            " [0.99995875]\n",
            " [0.99959594]\n",
            " [0.9997391 ]\n",
            " [0.9999362 ]\n",
            " [0.9995322 ]\n",
            " [0.99730766]\n",
            " [0.9962166 ]\n",
            " [0.9991767 ]\n",
            " [0.99921477]\n",
            " [0.9976878 ]\n",
            " [0.98333424]\n",
            " [0.9959139 ]\n",
            " [0.9988141 ]\n",
            " [0.9996617 ]\n",
            " [0.9996909 ]\n",
            " [0.9987445 ]\n",
            " [0.99979216]\n",
            " [0.99990916]\n",
            " [0.9995957 ]\n",
            " [0.99827504]\n",
            " [0.99990475]\n",
            " [0.9976755 ]\n",
            " [0.9965024 ]\n",
            " [0.9995484 ]\n",
            " [0.9999256 ]\n",
            " [0.99922156]\n",
            " [0.999476  ]\n",
            " [0.99891675]\n",
            " [0.9996119 ]\n",
            " [0.99959415]\n",
            " [0.99583226]\n",
            " [0.998642  ]\n",
            " [0.999201  ]\n",
            " [0.99982685]\n",
            " [0.9985661 ]\n",
            " [0.99995697]\n",
            " [0.9998574 ]\n",
            " [0.99842465]\n",
            " [0.99964094]\n",
            " [0.9992487 ]\n",
            " [0.9995369 ]\n",
            " [0.9995115 ]\n",
            " [0.99383587]\n",
            " [0.99992526]\n",
            " [0.9994586 ]\n",
            " [0.9995882 ]\n",
            " [0.999637  ]\n",
            " [0.9996965 ]\n",
            " [0.99989116]\n",
            " [0.9996835 ]\n",
            " [0.9989047 ]\n",
            " [0.9998734 ]\n",
            " [0.99946505]\n",
            " [0.9995976 ]\n",
            " [0.9997992 ]\n",
            " [0.99943286]\n",
            " [0.998111  ]\n",
            " [0.99561477]\n",
            " [0.9995846 ]\n",
            " [0.9998098 ]\n",
            " [0.99810153]\n",
            " [0.99995613]\n",
            " [0.99996793]\n",
            " [0.999853  ]\n",
            " [0.99689364]\n",
            " [0.99983823]\n",
            " [0.9992925 ]\n",
            " [0.9995859 ]\n",
            " [0.99994147]\n",
            " [0.9976921 ]\n",
            " [0.99925226]\n",
            " [0.9997814 ]\n",
            " [0.9994129 ]\n",
            " [0.99965835]\n",
            " [0.99983966]\n",
            " [0.99908066]\n",
            " [0.99972206]\n",
            " [0.9991887 ]\n",
            " [0.99993443]\n",
            " [0.9969548 ]\n",
            " [0.99987733]\n",
            " [0.9996112 ]\n",
            " [0.9996855 ]\n",
            " [0.9998865 ]\n",
            " [0.99502605]\n",
            " [0.9994104 ]\n",
            " [0.99918765]\n",
            " [0.99960583]\n",
            " [0.9995658 ]\n",
            " [0.9959884 ]\n",
            " [0.9988109 ]\n",
            " [0.99892265]\n",
            " [0.99891675]\n",
            " [0.99899226]\n",
            " [0.9995789 ]\n",
            " [0.99941695]\n",
            " [0.9995086 ]\n",
            " [0.99959403]\n",
            " [0.99853516]\n",
            " [0.9999838 ]\n",
            " [0.9997522 ]\n",
            " [0.9980387 ]\n",
            " [0.9997012 ]\n",
            " [0.9994252 ]\n",
            " [0.9990563 ]\n",
            " [0.999526  ]\n",
            " [0.9996408 ]\n",
            " [0.99936014]\n",
            " [0.99947447]\n",
            " [0.99972945]\n",
            " [0.99993336]\n",
            " [0.9991085 ]\n",
            " [0.9995047 ]\n",
            " [0.99960965]\n",
            " [0.99738437]\n",
            " [0.99933964]\n",
            " [0.9984578 ]\n",
            " [0.998623  ]\n",
            " [0.99972945]\n",
            " [0.99949443]\n",
            " [0.99962723]\n",
            " [0.99937135]\n",
            " [0.9994104 ]\n",
            " [0.99971265]\n",
            " [0.9977223 ]\n",
            " [0.99970466]\n",
            " [0.99987006]\n",
            " [0.9993587 ]\n",
            " [0.9996884 ]\n",
            " [0.9738011 ]\n",
            " [0.99844813]\n",
            " [0.99934155]\n",
            " [0.9995902 ]\n",
            " [0.9997787 ]\n",
            " [0.9999492 ]\n",
            " [0.99988115]\n",
            " [0.99891007]\n",
            " [0.99963665]\n",
            " [0.999703  ]\n",
            " [0.9996958 ]\n",
            " [0.9997631 ]\n",
            " [0.9995141 ]\n",
            " [0.99871683]\n",
            " [0.9966101 ]\n",
            " [0.9994288 ]\n",
            " [0.99922335]\n",
            " [0.99858403]\n",
            " [0.99967265]\n",
            " [0.9998443 ]\n",
            " [0.9988141 ]\n",
            " [0.9958782 ]\n",
            " [0.99987864]\n",
            " [0.99977237]\n",
            " [0.9979634 ]\n",
            " [0.9990128 ]\n",
            " [0.99986255]\n",
            " [0.99942964]\n",
            " [0.9870483 ]\n",
            " [0.999476  ]\n",
            " [0.9986975 ]\n",
            " [0.999703  ]\n",
            " [0.9995123 ]\n",
            " [0.9991937 ]\n",
            " [0.99776375]\n",
            " [0.9977094 ]\n",
            " [0.9960461 ]\n",
            " [0.99753726]\n",
            " [0.9994616 ]\n",
            " [0.9994252 ]\n",
            " [0.99845564]\n",
            " [0.99985576]\n",
            " [0.99956626]\n",
            " [0.997738  ]\n",
            " [0.99957293]\n",
            " [0.99928564]\n",
            " [0.99922335]\n",
            " [0.998412  ]\n",
            " [0.99925584]\n",
            " [0.9997185 ]\n",
            " [0.9990331 ]\n",
            " [0.99973065]\n",
            " [0.9996699 ]\n",
            " [0.9965101 ]\n",
            " [0.9974694 ]\n",
            " [0.9995882 ]\n",
            " [0.9968362 ]\n",
            " [0.99992144]\n",
            " [0.99897695]\n",
            " [0.99983   ]\n",
            " [0.9990128 ]\n",
            " [0.99957067]\n",
            " [0.9963152 ]\n",
            " [0.9999287 ]\n",
            " [0.9981147 ]\n",
            " [0.9982426 ]\n",
            " [0.99897134]\n",
            " [0.9969854 ]\n",
            " [0.998623  ]\n",
            " [0.99903345]\n",
            " [0.9990883 ]\n",
            " [0.99922335]\n",
            " [0.99987936]\n",
            " [0.99671245]\n",
            " [0.999608  ]\n",
            " [0.99945074]\n",
            " [0.99921954]\n",
            " [0.99986804]\n",
            " [0.9999418 ]\n",
            " [0.9994936 ]\n",
            " [0.9957963 ]\n",
            " [0.99955636]\n",
            " [0.99989736]\n",
            " [0.88767153]\n",
            " [0.9990231 ]\n",
            " [0.99694866]\n",
            " [0.99970055]\n",
            " [0.9975484 ]\n",
            " [0.997738  ]\n",
            " [0.99950147]]\n"
          ],
          "name": "stdout"
        }
      ]
    },
    {
      "cell_type": "code",
      "metadata": {
        "id": "43HUPkGL8xGy",
        "colab_type": "code",
        "colab": {}
      },
      "source": [
        ""
      ],
      "execution_count": null,
      "outputs": []
    },
    {
      "cell_type": "code",
      "metadata": {
        "id": "jW1pNsVJ8xG1",
        "colab_type": "code",
        "colab": {}
      },
      "source": [
        ""
      ],
      "execution_count": null,
      "outputs": []
    },
    {
      "cell_type": "code",
      "metadata": {
        "id": "w6q2GP368xG5",
        "colab_type": "code",
        "colab": {}
      },
      "source": [
        ""
      ],
      "execution_count": null,
      "outputs": []
    },
    {
      "cell_type": "code",
      "metadata": {
        "id": "Jm3c3hOu8xG7",
        "colab_type": "code",
        "colab": {}
      },
      "source": [
        ""
      ],
      "execution_count": null,
      "outputs": []
    },
    {
      "cell_type": "code",
      "metadata": {
        "id": "c3qZ7yGR8xG-",
        "colab_type": "code",
        "colab": {}
      },
      "source": [
        ""
      ],
      "execution_count": null,
      "outputs": []
    },
    {
      "cell_type": "code",
      "metadata": {
        "id": "_LndBXxK8xHB",
        "colab_type": "code",
        "colab": {}
      },
      "source": [
        ""
      ],
      "execution_count": null,
      "outputs": []
    },
    {
      "cell_type": "code",
      "metadata": {
        "id": "GL-SIbk-8xHE",
        "colab_type": "code",
        "colab": {}
      },
      "source": [
        ""
      ],
      "execution_count": null,
      "outputs": []
    },
    {
      "cell_type": "code",
      "metadata": {
        "id": "qpp2lo8_8xHK",
        "colab_type": "code",
        "colab": {}
      },
      "source": [
        ""
      ],
      "execution_count": null,
      "outputs": []
    },
    {
      "cell_type": "code",
      "metadata": {
        "id": "gYLz5ZvH8xHN",
        "colab_type": "code",
        "colab": {}
      },
      "source": [
        ""
      ],
      "execution_count": null,
      "outputs": []
    },
    {
      "cell_type": "code",
      "metadata": {
        "id": "BBRjqiyd8xHP",
        "colab_type": "code",
        "colab": {}
      },
      "source": [
        ""
      ],
      "execution_count": null,
      "outputs": []
    },
    {
      "cell_type": "code",
      "metadata": {
        "id": "UM3ojkT88xHR",
        "colab_type": "code",
        "colab": {}
      },
      "source": [
        ""
      ],
      "execution_count": null,
      "outputs": []
    },
    {
      "cell_type": "code",
      "metadata": {
        "id": "OelBDVF58xHT",
        "colab_type": "code",
        "colab": {}
      },
      "source": [
        ""
      ],
      "execution_count": null,
      "outputs": []
    },
    {
      "cell_type": "code",
      "metadata": {
        "id": "e13aYXEI8xHV",
        "colab_type": "code",
        "colab": {}
      },
      "source": [
        "\n",
        "\n"
      ],
      "execution_count": null,
      "outputs": []
    },
    {
      "cell_type": "code",
      "metadata": {
        "id": "9uVtNa328xHX",
        "colab_type": "code",
        "colab": {}
      },
      "source": [
        ""
      ],
      "execution_count": null,
      "outputs": []
    },
    {
      "cell_type": "code",
      "metadata": {
        "id": "mSDwmik68xHY",
        "colab_type": "code",
        "colab": {}
      },
      "source": [
        ""
      ],
      "execution_count": null,
      "outputs": []
    },
    {
      "cell_type": "code",
      "metadata": {
        "id": "szJvCZsg8xHa",
        "colab_type": "code",
        "colab": {}
      },
      "source": [
        ""
      ],
      "execution_count": null,
      "outputs": []
    },
    {
      "cell_type": "code",
      "metadata": {
        "id": "S7BLADi-8xHc",
        "colab_type": "code",
        "colab": {}
      },
      "source": [
        ""
      ],
      "execution_count": null,
      "outputs": []
    },
    {
      "cell_type": "code",
      "metadata": {
        "id": "UAdaEWZK8xHe",
        "colab_type": "code",
        "colab": {}
      },
      "source": [
        ""
      ],
      "execution_count": null,
      "outputs": []
    },
    {
      "cell_type": "code",
      "metadata": {
        "id": "st2F6-ik8xHg",
        "colab_type": "code",
        "colab": {}
      },
      "source": [
        ""
      ],
      "execution_count": null,
      "outputs": []
    },
    {
      "cell_type": "code",
      "metadata": {
        "id": "2W4hVs8k8xHh",
        "colab_type": "code",
        "colab": {}
      },
      "source": [
        ""
      ],
      "execution_count": null,
      "outputs": []
    },
    {
      "cell_type": "code",
      "metadata": {
        "id": "po9llzYC8xHk",
        "colab_type": "code",
        "colab": {}
      },
      "source": [
        ""
      ],
      "execution_count": null,
      "outputs": []
    },
    {
      "cell_type": "code",
      "metadata": {
        "id": "Be3cZ6Sh8xHl",
        "colab_type": "code",
        "colab": {}
      },
      "source": [
        ""
      ],
      "execution_count": null,
      "outputs": []
    },
    {
      "cell_type": "code",
      "metadata": {
        "id": "c5DFCEfn8xHn",
        "colab_type": "code",
        "colab": {}
      },
      "source": [
        ""
      ],
      "execution_count": null,
      "outputs": []
    },
    {
      "cell_type": "code",
      "metadata": {
        "id": "p4mR_oEl8xHo",
        "colab_type": "code",
        "colab": {}
      },
      "source": [
        ""
      ],
      "execution_count": null,
      "outputs": []
    },
    {
      "cell_type": "code",
      "metadata": {
        "id": "k7Lal6xX8xHq",
        "colab_type": "code",
        "colab": {}
      },
      "source": [
        ""
      ],
      "execution_count": null,
      "outputs": []
    },
    {
      "cell_type": "code",
      "metadata": {
        "id": "i9wt9oCf8xHr",
        "colab_type": "code",
        "colab": {}
      },
      "source": [
        ""
      ],
      "execution_count": null,
      "outputs": []
    },
    {
      "cell_type": "code",
      "metadata": {
        "id": "HqImuZJE8xHs",
        "colab_type": "code",
        "colab": {}
      },
      "source": [
        ""
      ],
      "execution_count": null,
      "outputs": []
    },
    {
      "cell_type": "code",
      "metadata": {
        "id": "EE9ZJ88_8xHu",
        "colab_type": "code",
        "colab": {}
      },
      "source": [
        ""
      ],
      "execution_count": null,
      "outputs": []
    },
    {
      "cell_type": "code",
      "metadata": {
        "id": "eAr2gb2Z8xHw",
        "colab_type": "code",
        "colab": {}
      },
      "source": [
        ""
      ],
      "execution_count": null,
      "outputs": []
    },
    {
      "cell_type": "code",
      "metadata": {
        "id": "wgMjL8p28xHx",
        "colab_type": "code",
        "colab": {}
      },
      "source": [
        ""
      ],
      "execution_count": null,
      "outputs": []
    },
    {
      "cell_type": "code",
      "metadata": {
        "scrolled": true,
        "id": "-sLj4XCK8xHy",
        "colab_type": "code",
        "colab": {}
      },
      "source": [
        ""
      ],
      "execution_count": null,
      "outputs": []
    },
    {
      "cell_type": "code",
      "metadata": {
        "id": "Kw1x1erL8xHz",
        "colab_type": "code",
        "colab": {}
      },
      "source": [
        ""
      ],
      "execution_count": null,
      "outputs": []
    },
    {
      "cell_type": "code",
      "metadata": {
        "id": "fDKrxFSj8xH2",
        "colab_type": "code",
        "colab": {}
      },
      "source": [
        ""
      ],
      "execution_count": null,
      "outputs": []
    },
    {
      "cell_type": "code",
      "metadata": {
        "id": "SBo_AJYP8xH4",
        "colab_type": "code",
        "colab": {}
      },
      "source": [
        ""
      ],
      "execution_count": null,
      "outputs": []
    },
    {
      "cell_type": "code",
      "metadata": {
        "id": "I3lek3B-8xH5",
        "colab_type": "code",
        "colab": {}
      },
      "source": [
        ""
      ],
      "execution_count": null,
      "outputs": []
    },
    {
      "cell_type": "code",
      "metadata": {
        "id": "Bq0JHph88xH6",
        "colab_type": "code",
        "colab": {}
      },
      "source": [
        ""
      ],
      "execution_count": null,
      "outputs": []
    },
    {
      "cell_type": "code",
      "metadata": {
        "id": "MhFPu3Tm8xH8",
        "colab_type": "code",
        "colab": {}
      },
      "source": [
        ""
      ],
      "execution_count": null,
      "outputs": []
    },
    {
      "cell_type": "code",
      "metadata": {
        "id": "h3_BIkO08xH9",
        "colab_type": "code",
        "colab": {}
      },
      "source": [
        ""
      ],
      "execution_count": null,
      "outputs": []
    },
    {
      "cell_type": "code",
      "metadata": {
        "id": "n8tu-DzD8xH_",
        "colab_type": "code",
        "colab": {}
      },
      "source": [
        ""
      ],
      "execution_count": null,
      "outputs": []
    },
    {
      "cell_type": "code",
      "metadata": {
        "id": "k8dvj5Y68xIA",
        "colab_type": "code",
        "colab": {}
      },
      "source": [
        ""
      ],
      "execution_count": null,
      "outputs": []
    },
    {
      "cell_type": "code",
      "metadata": {
        "id": "sZpilrUz8xIB",
        "colab_type": "code",
        "colab": {}
      },
      "source": [
        ""
      ],
      "execution_count": null,
      "outputs": []
    },
    {
      "cell_type": "code",
      "metadata": {
        "id": "CI0R1Rz98xIC",
        "colab_type": "code",
        "colab": {}
      },
      "source": [
        ""
      ],
      "execution_count": null,
      "outputs": []
    },
    {
      "cell_type": "code",
      "metadata": {
        "id": "_hzhmpUA8xIE",
        "colab_type": "code",
        "colab": {}
      },
      "source": [
        ""
      ],
      "execution_count": null,
      "outputs": []
    },
    {
      "cell_type": "code",
      "metadata": {
        "id": "vmemowOe8xIF",
        "colab_type": "code",
        "colab": {}
      },
      "source": [
        ""
      ],
      "execution_count": null,
      "outputs": []
    },
    {
      "cell_type": "code",
      "metadata": {
        "id": "gt4i0g1T8xIG",
        "colab_type": "code",
        "colab": {}
      },
      "source": [
        ""
      ],
      "execution_count": null,
      "outputs": []
    },
    {
      "cell_type": "code",
      "metadata": {
        "id": "zBXMGZKX8xII",
        "colab_type": "code",
        "colab": {}
      },
      "source": [
        ""
      ],
      "execution_count": null,
      "outputs": []
    },
    {
      "cell_type": "code",
      "metadata": {
        "id": "Cqk0yMqA8xIJ",
        "colab_type": "code",
        "colab": {}
      },
      "source": [
        ""
      ],
      "execution_count": null,
      "outputs": []
    },
    {
      "cell_type": "code",
      "metadata": {
        "id": "J7qX-sFV8xIK",
        "colab_type": "code",
        "colab": {}
      },
      "source": [
        ""
      ],
      "execution_count": null,
      "outputs": []
    },
    {
      "cell_type": "code",
      "metadata": {
        "id": "Udua0d1q8xIN",
        "colab_type": "code",
        "colab": {}
      },
      "source": [
        ""
      ],
      "execution_count": null,
      "outputs": []
    },
    {
      "cell_type": "code",
      "metadata": {
        "id": "okUPgCVW8xIO",
        "colab_type": "code",
        "colab": {}
      },
      "source": [
        ""
      ],
      "execution_count": null,
      "outputs": []
    },
    {
      "cell_type": "code",
      "metadata": {
        "id": "xKq3d4GH8xIQ",
        "colab_type": "code",
        "colab": {}
      },
      "source": [
        ""
      ],
      "execution_count": null,
      "outputs": []
    },
    {
      "cell_type": "code",
      "metadata": {
        "id": "TfDlIj_68xIR",
        "colab_type": "code",
        "colab": {}
      },
      "source": [
        ""
      ],
      "execution_count": null,
      "outputs": []
    },
    {
      "cell_type": "code",
      "metadata": {
        "id": "elXHH1B58xIU",
        "colab_type": "code",
        "colab": {}
      },
      "source": [
        ""
      ],
      "execution_count": null,
      "outputs": []
    },
    {
      "cell_type": "code",
      "metadata": {
        "id": "ts01s1K98xIW",
        "colab_type": "code",
        "colab": {}
      },
      "source": [
        ""
      ],
      "execution_count": null,
      "outputs": []
    },
    {
      "cell_type": "code",
      "metadata": {
        "id": "ghrQQAbK8xIY",
        "colab_type": "code",
        "colab": {}
      },
      "source": [
        ""
      ],
      "execution_count": null,
      "outputs": []
    },
    {
      "cell_type": "code",
      "metadata": {
        "id": "qAxscDNE8xIa",
        "colab_type": "code",
        "colab": {}
      },
      "source": [
        ""
      ],
      "execution_count": null,
      "outputs": []
    },
    {
      "cell_type": "code",
      "metadata": {
        "id": "xAKff_1-8xId",
        "colab_type": "code",
        "colab": {}
      },
      "source": [
        ""
      ],
      "execution_count": null,
      "outputs": []
    },
    {
      "cell_type": "code",
      "metadata": {
        "id": "VRShkOJN8xIe",
        "colab_type": "code",
        "colab": {}
      },
      "source": [
        ""
      ],
      "execution_count": null,
      "outputs": []
    },
    {
      "cell_type": "code",
      "metadata": {
        "id": "jhJYHz978xIf",
        "colab_type": "code",
        "colab": {}
      },
      "source": [
        ""
      ],
      "execution_count": null,
      "outputs": []
    }
  ]
}